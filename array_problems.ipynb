{
 "cells": [
  {
   "cell_type": "markdown",
   "id": "30b11fe0-d5b1-4f7e-8f59-ff0bd2141b2d",
   "metadata": {},
   "source": [
    "#### Pk finds it difficult to judge the minimum element in the list of elements given to him. Your task is to develop the algorithm in order to find the minimum element.\n",
    "\n"
   ]
  },
  {
   "cell_type": "code",
   "execution_count": 6,
   "id": "ddf24c26-0c08-4ad9-98e2-ae2edd3dff39",
   "metadata": {},
   "outputs": [
    {
     "name": "stdin",
     "output_type": "stream",
     "text": [
      " 5\n",
      " 8 5 6 2 5 4\n"
     ]
    },
    {
     "data": {
      "text/plain": [
       "[8, 5, 6, 2, 5]"
      ]
     },
     "execution_count": 6,
     "metadata": {},
     "output_type": "execute_result"
    }
   ],
   "source": [
    "n=int(input())\n",
    "nums= list(map(int, input().split()))[:n]\n",
    "nums"
   ]
  },
  {
   "cell_type": "code",
   "execution_count": 8,
   "id": "93526cfa-cae7-4c9f-b9f7-4d75ae850a63",
   "metadata": {},
   "outputs": [
    {
     "data": {
      "text/plain": [
       "2"
      ]
     },
     "execution_count": 8,
     "metadata": {},
     "output_type": "execute_result"
    }
   ],
   "source": [
    "min(nums)"
   ]
  },
  {
   "cell_type": "markdown",
   "id": "b0e68343-e619-458f-947b-420f901fbffe",
   "metadata": {},
   "source": [
    "### approach 2 basic approach o(n)"
   ]
  },
  {
   "cell_type": "code",
   "execution_count": 12,
   "id": "c7b54e28-ca73-4619-8bfe-711024c8d495",
   "metadata": {},
   "outputs": [
    {
     "name": "stdout",
     "output_type": "stream",
     "text": [
      "2\n"
     ]
    }
   ],
   "source": [
    "min_num=nums[0]\n",
    "for i in range(1,len(nums)):\n",
    "    if( nums[i]<min_num):\n",
    "        min_num=nums[i]\n",
    "print(min_num)"
   ]
  },
  {
   "cell_type": "markdown",
   "id": "88c7618a-d16d-4ce1-b631-bcd4d762d0b0",
   "metadata": {},
   "source": [
    "#### approach 3 heap o(nlogn) building heap o(1) finding heap\n",
    "useful when the list keeps increasing or its a dynamic list\n"
   ]
  },
  {
   "cell_type": "code",
   "execution_count": 13,
   "id": "cc06aaa7-5fe4-4cd4-8531-12e96df82393",
   "metadata": {},
   "outputs": [
    {
     "data": {
      "text/plain": [
       "2"
      ]
     },
     "execution_count": 13,
     "metadata": {},
     "output_type": "execute_result"
    }
   ],
   "source": [
    "import heapq\n",
    "def find_min(nums):\n",
    "    heap=[(x,x) for x in nums]\n",
    "    heapq.heapify(heap)\n",
    "    _,small=heapq.heappop(heap)\n",
    "    return small\n",
    "find_min(nums)\n",
    "    "
   ]
  },
  {
   "cell_type": "markdown",
   "id": "6efe3923-3e61-4ed9-902d-a42bca1fbd95",
   "metadata": {},
   "source": [
    "#### You are given with two arrays. Your task is to merge the array such that first array is in ascending order and second one in descending order.\n",
    "\n",
    "Input Description:\n",
    "First line contains two integer ‘n’ and ‘m’. ‘n’ denotes length of array 1 and ‘m’ of array 2.Next line contains n space separated numbers and third line contains ‘m’ space separated numbers\n",
    "\n",
    "Output Description:\n",
    "Print a single array in desired order"
   ]
  },
  {
   "cell_type": "code",
   "execution_count": 17,
   "id": "b459e577-81bb-4ae9-b7c5-8351f7b14a4f",
   "metadata": {},
   "outputs": [
    {
     "name": "stdin",
     "output_type": "stream",
     "text": [
      " 3 3\n",
      " 23 15 16\n",
      " 357 65 10\n"
     ]
    },
    {
     "name": "stdout",
     "output_type": "stream",
     "text": [
      "15 16 23 357 65 10\n"
     ]
    }
   ],
   "source": [
    "n,m=map(int, input().split())\n",
    "l1= list(map(int, input().split()))[:n]\n",
    "l2= list(map(int, input().split()))[:m]\n",
    "l1.sort()\n",
    "l2.sort(reverse=True)\n",
    "l3=l1+l2\n",
    "print(*l3)"
   ]
  },
  {
   "cell_type": "markdown",
   "id": "6f2c21dc-901e-4ede-8296-dd7a0e9f2108",
   "metadata": {},
   "source": [
    "#### You are provided with an array in which all elements are repeated thrice except one which is repeated twice.Your task is to print that number.\n",
    "\n",
    "\n",
    "O(n) time and O(1) extra space\n",
    "\n",
    "Input Description:\n",
    "First line contains a number denoting size of array ‘n’.Next line contains n space separated numbers\n",
    "\n",
    "Output Description:\n",
    "Print the number which is repeated twice"
   ]
  },
  {
   "cell_type": "code",
   "execution_count": 19,
   "id": "131f109e-1256-4954-a24e-03de2acaf260",
   "metadata": {},
   "outputs": [
    {
     "name": "stdin",
     "output_type": "stream",
     "text": [
      " 5\n",
      " 2 2 2 5 5\n"
     ]
    },
    {
     "name": "stdout",
     "output_type": "stream",
     "text": [
      "5\n"
     ]
    }
   ],
   "source": [
    "n1=int(input())\n",
    "arr=list(map(int,input().split()))\n",
    "for i in range(0,len(arr)):\n",
    "    if(arr.count(arr[i])==2):\n",
    "        print(arr[i])\n",
    "        break;"
   ]
  },
  {
   "cell_type": "markdown",
   "id": "551bf51f-f6f6-469f-82de-5371fb20fce8",
   "metadata": {},
   "source": [
    "#### Ramesh is a student and wants to find out if there is any other student in his class who has got the same marks as his, in maths. Help him to find out.\n",
    " \n",
    "\n",
    "Input Description:\n",
    "First line contains the number of students in the class followed by Ramesh’s mark. Second line contains the marks of all students in the class.\n",
    "\n",
    "Output Description:\n",
    "Index of student who got mark same as Ramesh’s mark. If no such mark exists, return -1."
   ]
  },
  {
   "cell_type": "code",
   "execution_count": 22,
   "id": "9b9b8148-5f6f-4cfd-b036-588b294d05c9",
   "metadata": {},
   "outputs": [
    {
     "name": "stdin",
     "output_type": "stream",
     "text": [
      " 5 99\n",
      " 11 22 55 99 44 \n"
     ]
    },
    {
     "name": "stdout",
     "output_type": "stream",
     "text": [
      "3\n"
     ]
    }
   ],
   "source": [
    "s,ramesh=map(int,input().split())\n",
    "marks=list(map(int, input().split()))[:s]\n",
    "index=-1\n",
    "for pos,v in enumerate(marks):\n",
    "    if(int(v)==ramesh):\n",
    "        index=pos\n",
    "        break;\n",
    "print(index)\n",
    "        \n",
    "        \n"
   ]
  },
  {
   "cell_type": "markdown",
   "id": "b8f3b45d-1101-4156-a771-518596b618da",
   "metadata": {},
   "source": [
    "#### You are given a number with duplicate digits your task is to remove the immediate duplicate digits and print the result\n",
    "\n",
    "Input Description:\n",
    "You are given a long string of digits\n",
    "\n",
    "Output Description:\n",
    "Print the desired result print -1 if result length is 0"
   ]
  },
  {
   "cell_type": "code",
   "execution_count": null,
   "id": "7d75be45-b7c7-47c3-8f2c-68c990e882ff",
   "metadata": {},
   "outputs": [],
   "source": [
    "a=input()\n",
    "num1=''\n",
    "i=0\n",
    "while i<(len(a)-1):\n",
    "    if a[i+1]==a[i]:\n",
    "        i+=2\n",
    "    else:\n",
    "        num1+=a[i]\n",
    "        i=i+1\n",
    "print(num1)"
   ]
  },
  {
   "cell_type": "code",
   "execution_count": 2,
   "id": "24f9e578-8c52-49f0-a853-1f7a18817204",
   "metadata": {},
   "outputs": [
    {
     "name": "stdout",
     "output_type": "stream",
     "text": [
      "['56a', '578', '584', '89K', 'APPLE', 'Ab234', 'Apple', 'a59', 'apple']\n"
     ]
    }
   ],
   "source": [
    "a = ['584', '578', 'a59', 'Ab234', 'apple', 'Apple', 'APPLE', '56a', '89K']\n",
    "a.sort( )\n",
    "print(a)"
   ]
  },
  {
   "cell_type": "code",
   "execution_count": 5,
   "id": "065e2e86-9e74-4c7d-9fdb-073ce16a13f0",
   "metadata": {},
   "outputs": [
    {
     "name": "stdout",
     "output_type": "stream",
     "text": [
      "['578', '584', 'Ab234', 'a59']\n"
     ]
    }
   ],
   "source": [
    "a = ['584', '578', 'a59', 'Ab234']\n",
    "a.sort()\n",
    "print(a)"
   ]
  }
 ],
 "metadata": {
  "kernelspec": {
   "display_name": "Python 3 (ipykernel)",
   "language": "python",
   "name": "python3"
  },
  "language_info": {
   "codemirror_mode": {
    "name": "ipython",
    "version": 3
   },
   "file_extension": ".py",
   "mimetype": "text/x-python",
   "name": "python",
   "nbconvert_exporter": "python",
   "pygments_lexer": "ipython3",
   "version": "3.12.2"
  }
 },
 "nbformat": 4,
 "nbformat_minor": 5
}
