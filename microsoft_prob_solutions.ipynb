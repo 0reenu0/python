{
 "cells": [
  {
   "cell_type": "markdown",
   "id": "f743a0e3-eb30-4659-afba-ec68f43600cb",
   "metadata": {},
   "source": [
    "### You are given a string s.Your task is to remove all the adjacent duplicate character from string.Print the string formed out of it.\n",
    "\n",
    "Input Description:\n",
    "You are given a string ‘s’\n",
    "\n",
    "Output Description:\n",
    "Print the resultant string\n",
    "\n",
    "Sample Input :\n",
    "Geeksforgeek\n",
    "Sample Output :\n",
    "Gksforgk\n",
    "\n"
   ]
  },
  {
   "cell_type": "code",
   "execution_count": null,
   "id": "3d60678f-3f2b-493a-b541-111a65664237",
   "metadata": {},
   "outputs": [],
   "source": [
    "def next_char_pos(s,c):\n",
    "    i=-1\n",
    "    for i in (0,len(s)):\n",
    "        if s[i]!=c:\n",
    "            return i\n",
    "            \n",
    "def removeDuplicates(string,n):\n",
    "    s=list(string)\n",
    "    index=0\n",
    "    exists_map={}\n",
    "    newstr=\"\"\n",
    "    i=0\n",
    "    while i<n:\n",
    "        next_pos=next_char_pos(s,s[i])\n",
    "        if next_pos== i+1 and (s[i] not in exists_map or exists_map[s[i]]==0):\n",
    "            s[index]=s[i]\n",
    "            newstr+=s[index]\n",
    "            exists_map[s[i]]=1\n",
    "            index=index+1\n",
    "            i+=1\n",
    "        else:\n",
    "            i=next_pos    \n",
    "     \n",
    "s=input()\n",
    "print(removeDuplicates(s,len(s)))"
   ]
  },
  {
   "cell_type": "markdown",
   "id": "d9dc2762-649e-43ff-af65-d5d35c5605cb",
   "metadata": {},
   "source": [
    "Given a string S which may contain lowercase and uppercase characters. The task is to remove all duplicate characters from the string and find the resultant string."
   ]
  },
  {
   "cell_type": "markdown",
   "id": "586aa06a-2c75-4c5b-a420-f64cf7f1fe8c",
   "metadata": {},
   "source": [
    "naive appoach, O(N*M)"
   ]
  },
  {
   "cell_type": "code",
   "execution_count": 9,
   "id": "4f1fcf1d-3099-4d8a-8a57-af1df67fa534",
   "metadata": {},
   "outputs": [
    {
     "name": "stdin",
     "output_type": "stream",
     "text": [
      " geeksforgeeks\n"
     ]
    },
    {
     "name": "stdout",
     "output_type": "stream",
     "text": [
      "geksfor\n"
     ]
    }
   ],
   "source": [
    "s=input()\n",
    "new_s=''\n",
    "for ch in s:\n",
    "    if ch not in new_s:\n",
    "        new_s+=ch\n",
    "print(new_s)"
   ]
  },
  {
   "cell_type": "markdown",
   "id": "722ff8ac-aeb6-4115-b14a-8ea7c94d6650",
   "metadata": {},
   "source": [
    "efficient approach with unorded dictionary map, acces tie of map is O(1), O(N)"
   ]
  },
  {
   "cell_type": "code",
   "execution_count": 6,
   "id": "e0da7dd0-8d41-4c9b-95cb-686e4ee616e7",
   "metadata": {},
   "outputs": [
    {
     "name": "stdin",
     "output_type": "stream",
     "text": [
      " geeksforgeeks\n"
     ]
    },
    {
     "name": "stdout",
     "output_type": "stream",
     "text": [
      "geksfor\n"
     ]
    }
   ],
   "source": [
    "def removeDuplicates(s,n):\n",
    "    index=0\n",
    "    exists_map={}\n",
    "    newstr=\"\"\n",
    "    for i in range(0,n):\n",
    "        if s[i] not in exists_map or exists_map[s[i]]==0:\n",
    "            s[index]=s[i]\n",
    "            newstr+=s[index]\n",
    "            exists_map[s[i]]=1\n",
    "            index=index+1\n",
    "    return newstr\n",
    "s=input()\n",
    "print(removeDuplicates(list(s),len(s)))"
   ]
  },
  {
   "cell_type": "code",
   "execution_count": null,
   "id": "9a583159-b7ed-456f-a85a-65ab375e4022",
   "metadata": {},
   "outputs": [],
   "source": []
  }
 ],
 "metadata": {
  "kernelspec": {
   "display_name": "Python 3 (ipykernel)",
   "language": "python",
   "name": "python3"
  },
  "language_info": {
   "codemirror_mode": {
    "name": "ipython",
    "version": 3
   },
   "file_extension": ".py",
   "mimetype": "text/x-python",
   "name": "python",
   "nbconvert_exporter": "python",
   "pygments_lexer": "ipython3",
   "version": "3.12.3"
  }
 },
 "nbformat": 4,
 "nbformat_minor": 5
}
