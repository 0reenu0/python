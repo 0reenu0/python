{
 "cells": [
  {
   "cell_type": "markdown",
   "id": "a4b60639-90d9-4486-9f2c-723527cba5cc",
   "metadata": {},
   "source": [
    "# numpy is array processing package, used inscientific calculations, has c++ bindings"
   ]
  },
  {
   "cell_type": "code",
   "execution_count": 1,
   "id": "52b55e82-5311-4cdc-8c97-84e79356949f",
   "metadata": {},
   "outputs": [],
   "source": [
    "a=[1,2,3,4,5,6]\n"
   ]
  },
  {
   "cell_type": "code",
   "execution_count": 2,
   "id": "e48f9faf-0f28-40b0-9fb0-4cb7f42c51ec",
   "metadata": {},
   "outputs": [],
   "source": [
    "import numpy as np\n"
   ]
  },
  {
   "cell_type": "code",
   "execution_count": 19,
   "id": "bbbad677-5bf6-4aad-a8dc-19cb9ca5bd6a",
   "metadata": {},
   "outputs": [],
   "source": [
    "arr=np.array(a)"
   ]
  },
  {
   "cell_type": "code",
   "execution_count": 20,
   "id": "227f46d8-705a-4a87-b848-f34ae58bde12",
   "metadata": {},
   "outputs": [
    {
     "data": {
      "text/plain": [
       "(6,)"
      ]
     },
     "execution_count": 20,
     "metadata": {},
     "output_type": "execute_result"
    }
   ],
   "source": [
    "arr.shape"
   ]
  },
  {
   "cell_type": "code",
   "execution_count": 21,
   "id": "6f7f9147-66b8-4b4f-b5a5-ce699d757ed5",
   "metadata": {},
   "outputs": [
    {
     "data": {
      "text/plain": [
       "array([1, 2, 3, 4, 5, 6])"
      ]
     },
     "execution_count": 21,
     "metadata": {},
     "output_type": "execute_result"
    }
   ],
   "source": [
    "arr"
   ]
  },
  {
   "cell_type": "code",
   "execution_count": 16,
   "id": "f18bb02b-be53-4f47-ae23-b05b32407bc5",
   "metadata": {},
   "outputs": [],
   "source": [
    "a=[1,2,3,4,5,6]\n",
    "b=[1,2,3,4,5,6]\n",
    "c=[1,2,3,4,5,6]\n",
    "arr1=np.array([a,b,c])"
   ]
  },
  {
   "cell_type": "code",
   "execution_count": 17,
   "id": "757306c9-743b-4d26-b74c-8ab7d59306f0",
   "metadata": {},
   "outputs": [
    {
     "data": {
      "text/plain": [
       "array([[1, 2, 3, 4, 5, 6],\n",
       "       [1, 2, 3, 4, 5, 6],\n",
       "       [1, 2, 3, 4, 5, 6]])"
      ]
     },
     "execution_count": 17,
     "metadata": {},
     "output_type": "execute_result"
    }
   ],
   "source": [
    "arr1"
   ]
  },
  {
   "cell_type": "code",
   "execution_count": 22,
   "id": "49bbd8e4-03ee-440a-9902-2e08ceba3b2a",
   "metadata": {},
   "outputs": [
    {
     "data": {
      "text/plain": [
       "numpy.ndarray"
      ]
     },
     "execution_count": 22,
     "metadata": {},
     "output_type": "execute_result"
    }
   ],
   "source": [
    "type(arr1)"
   ]
  },
  {
   "cell_type": "code",
   "execution_count": 24,
   "id": "76087ab9-abf2-447c-87d7-43a64f740583",
   "metadata": {},
   "outputs": [
    {
     "data": {
      "text/plain": [
       "(3, 6)"
      ]
     },
     "execution_count": 24,
     "metadata": {},
     "output_type": "execute_result"
    }
   ],
   "source": [
    "arr1.shape"
   ]
  },
  {
   "cell_type": "code",
   "execution_count": 33,
   "id": "e3a021f4-24c9-41d9-a052-adae91a149fb",
   "metadata": {},
   "outputs": [],
   "source": [
    "arr2=arr1.reshape(6,3)"
   ]
  },
  {
   "cell_type": "code",
   "execution_count": 30,
   "id": "b58f1624-af5d-4843-9c2e-c083cb19eb86",
   "metadata": {},
   "outputs": [
    {
     "data": {
      "text/plain": [
       "array([[1, 2, 3, 4, 5, 6],\n",
       "       [1, 2, 3, 4, 5, 6],\n",
       "       [1, 2, 3, 4, 5, 6]])"
      ]
     },
     "execution_count": 30,
     "metadata": {},
     "output_type": "execute_result"
    }
   ],
   "source": [
    "arr1"
   ]
  },
  {
   "cell_type": "code",
   "execution_count": 34,
   "id": "3f12c2b4-e9ac-4db7-9620-f2478d5bb9e2",
   "metadata": {},
   "outputs": [
    {
     "data": {
      "text/plain": [
       "array([[1, 2, 3],\n",
       "       [4, 5, 6],\n",
       "       [1, 2, 3],\n",
       "       [4, 5, 6],\n",
       "       [1, 2, 3],\n",
       "       [4, 5, 6]])"
      ]
     },
     "execution_count": 34,
     "metadata": {},
     "output_type": "execute_result"
    }
   ],
   "source": [
    "arr2"
   ]
  },
  {
   "cell_type": "markdown",
   "id": "08073494-abe1-46e4-b70d-5ca1818c82ac",
   "metadata": {},
   "source": [
    "# indexing starts from 0"
   ]
  },
  {
   "cell_type": "code",
   "execution_count": 27,
   "id": "0800e5a2-ac18-4381-b58f-ffe693fa21af",
   "metadata": {},
   "outputs": [
    {
     "data": {
      "text/plain": [
       "4"
      ]
     },
     "execution_count": 27,
     "metadata": {},
     "output_type": "execute_result"
    }
   ],
   "source": [
    "arr[3]"
   ]
  },
  {
   "cell_type": "code",
   "execution_count": 31,
   "id": "016fd398-2d7c-4baa-a382-e8b07ec68e6b",
   "metadata": {},
   "outputs": [
    {
     "data": {
      "text/plain": [
       "array([[4, 5, 6],\n",
       "       [4, 5, 6]])"
      ]
     },
     "execution_count": 31,
     "metadata": {},
     "output_type": "execute_result"
    }
   ],
   "source": [
    "arr1[1:,3:]"
   ]
  },
  {
   "cell_type": "code",
   "execution_count": 45,
   "id": "9bf620a5-6b89-4e1c-9acb-7a92752f3b13",
   "metadata": {},
   "outputs": [
    {
     "data": {
      "text/plain": [
       "array([[6],\n",
       "       [3]])"
      ]
     },
     "execution_count": 45,
     "metadata": {},
     "output_type": "execute_result"
    }
   ],
   "source": [
    "arr2[1:3,2:]"
   ]
  },
  {
   "cell_type": "code",
   "execution_count": 54,
   "id": "2c9b7f1b-f672-4371-aa13-ec055e511137",
   "metadata": {},
   "outputs": [],
   "source": [
    "arr4=np.arange(100,200,10)"
   ]
  },
  {
   "cell_type": "code",
   "execution_count": 55,
   "id": "60919af9-e4af-4b9a-b261-8aab5f93bbee",
   "metadata": {},
   "outputs": [
    {
     "data": {
      "text/plain": [
       "array([100, 110, 120, 130, 140, 150, 160, 170, 180, 190])"
      ]
     },
     "execution_count": 55,
     "metadata": {},
     "output_type": "execute_result"
    }
   ],
   "source": [
    "arr4"
   ]
  },
  {
   "cell_type": "code",
   "execution_count": 59,
   "id": "28fd1188-d0b1-4d51-ba4a-0f0064cfc585",
   "metadata": {},
   "outputs": [
    {
     "data": {
      "text/plain": [
       "array([130, 140, 150, 160, 170, 180, 190])"
      ]
     },
     "execution_count": 59,
     "metadata": {},
     "output_type": "execute_result"
    }
   ],
   "source": [
    "arr4[3:]"
   ]
  },
  {
   "cell_type": "code",
   "execution_count": 60,
   "id": "6b421651-d35b-4fc5-9aa4-e8be14770d12",
   "metadata": {},
   "outputs": [
    {
     "data": {
      "text/plain": [
       "array([ 2.        ,  2.16326531,  2.32653061,  2.48979592,  2.65306122,\n",
       "        2.81632653,  2.97959184,  3.14285714,  3.30612245,  3.46938776,\n",
       "        3.63265306,  3.79591837,  3.95918367,  4.12244898,  4.28571429,\n",
       "        4.44897959,  4.6122449 ,  4.7755102 ,  4.93877551,  5.10204082,\n",
       "        5.26530612,  5.42857143,  5.59183673,  5.75510204,  5.91836735,\n",
       "        6.08163265,  6.24489796,  6.40816327,  6.57142857,  6.73469388,\n",
       "        6.89795918,  7.06122449,  7.2244898 ,  7.3877551 ,  7.55102041,\n",
       "        7.71428571,  7.87755102,  8.04081633,  8.20408163,  8.36734694,\n",
       "        8.53061224,  8.69387755,  8.85714286,  9.02040816,  9.18367347,\n",
       "        9.34693878,  9.51020408,  9.67346939,  9.83673469, 10.        ])"
      ]
     },
     "execution_count": 60,
     "metadata": {},
     "output_type": "execute_result"
    }
   ],
   "source": [
    "np.linspace(2,10,50)"
   ]
  },
  {
   "cell_type": "code",
   "execution_count": 61,
   "id": "8a49486c-edf8-4a1f-b0af-4fd2aa7487be",
   "metadata": {},
   "outputs": [
    {
     "data": {
      "text/plain": [
       "(array([ 2.        ,  2.16326531,  2.32653061,  2.48979592,  2.65306122,\n",
       "         2.81632653,  2.97959184,  3.14285714,  3.30612245,  3.46938776,\n",
       "         3.63265306,  3.79591837,  3.95918367,  4.12244898,  4.28571429,\n",
       "         4.44897959,  4.6122449 ,  4.7755102 ,  4.93877551,  5.10204082,\n",
       "         5.26530612,  5.42857143,  5.59183673,  5.75510204,  5.91836735,\n",
       "         6.08163265,  6.24489796,  6.40816327,  6.57142857,  6.73469388,\n",
       "         6.89795918,  7.06122449,  7.2244898 ,  7.3877551 ,  7.55102041,\n",
       "         7.71428571,  7.87755102,  8.04081633,  8.20408163,  8.36734694,\n",
       "         8.53061224,  8.69387755,  8.85714286,  9.02040816,  9.18367347,\n",
       "         9.34693878,  9.51020408,  9.67346939,  9.83673469, 10.        ]),\n",
       " 0.16326530612244897)"
      ]
     },
     "execution_count": 61,
     "metadata": {},
     "output_type": "execute_result"
    }
   ],
   "source": [
    "np.linspace(2,10,50,retstep=True)"
   ]
  },
  {
   "cell_type": "markdown",
   "id": "42436fdf-789f-4398-ab9e-5cf444340cb1",
   "metadata": {},
   "source": [
    "# broad masking and copy"
   ]
  },
  {
   "cell_type": "code",
   "execution_count": 69,
   "id": "c0c8738c-0687-4bed-8252-4b5d84d8ddab",
   "metadata": {},
   "outputs": [],
   "source": [
    "arr5=arr"
   ]
  },
  {
   "cell_type": "code",
   "execution_count": 72,
   "id": "936e86cc-d10d-477d-8a1d-e650b3191b5c",
   "metadata": {},
   "outputs": [],
   "source": [
    "arr5[3:]=300"
   ]
  },
  {
   "cell_type": "code",
   "execution_count": 73,
   "id": "e36013e9-3de1-49fc-b67b-b43e112d9ab8",
   "metadata": {},
   "outputs": [
    {
     "data": {
      "text/plain": [
       "array([  1,   2,   3, 300, 300, 300])"
      ]
     },
     "execution_count": 73,
     "metadata": {},
     "output_type": "execute_result"
    }
   ],
   "source": [
    "arr5"
   ]
  },
  {
   "cell_type": "code",
   "execution_count": 74,
   "id": "fad42818-8368-49fa-8c93-6daf3ff651d6",
   "metadata": {},
   "outputs": [
    {
     "data": {
      "text/plain": [
       "array([  1,   2,   3, 300, 300, 300])"
      ]
     },
     "execution_count": 74,
     "metadata": {},
     "output_type": "execute_result"
    }
   ],
   "source": [
    "arr"
   ]
  },
  {
   "cell_type": "code",
   "execution_count": 78,
   "id": "ab5f84fe-06f2-41cc-b899-6b254e91619a",
   "metadata": {},
   "outputs": [],
   "source": [
    "arr6=arr.copy()"
   ]
  },
  {
   "cell_type": "raw",
   "id": "48118c39-37c1-4703-8b95-b8f02ae63f71",
   "metadata": {},
   "source": [
    "arr6"
   ]
  },
  {
   "cell_type": "code",
   "execution_count": 79,
   "id": "28b70e40-76f0-4218-9e4d-efdef4ac2a5d",
   "metadata": {},
   "outputs": [],
   "source": [
    "arr6[3:]=1000"
   ]
  },
  {
   "cell_type": "code",
   "execution_count": 80,
   "id": "e7ccff35-b44a-4cd9-993a-f6a49a52771a",
   "metadata": {},
   "outputs": [
    {
     "data": {
      "text/plain": [
       "array([   1,    2,    3, 1000, 1000, 1000])"
      ]
     },
     "execution_count": 80,
     "metadata": {},
     "output_type": "execute_result"
    }
   ],
   "source": [
    "arr6"
   ]
  },
  {
   "cell_type": "code",
   "execution_count": 81,
   "id": "63990c71-bf25-419d-b7e1-99b13a8fa528",
   "metadata": {},
   "outputs": [
    {
     "data": {
      "text/plain": [
       "array([  1,   2,   3, 300, 300, 300])"
      ]
     },
     "execution_count": 81,
     "metadata": {},
     "output_type": "execute_result"
    }
   ],
   "source": [
    "arr"
   ]
  },
  {
   "cell_type": "markdown",
   "id": "6a5a51e1-cc1c-4a4c-af72-0f28b6da0aef",
   "metadata": {},
   "source": [
    "# EDA Useful tips"
   ]
  },
  {
   "cell_type": "code",
   "execution_count": 82,
   "id": "cb8cdf88-32bd-432d-8775-08b49cdd0204",
   "metadata": {},
   "outputs": [
    {
     "data": {
      "text/plain": [
       "array([1, 2])"
      ]
     },
     "execution_count": 82,
     "metadata": {},
     "output_type": "execute_result"
    }
   ],
   "source": [
    "arr[arr<3]"
   ]
  },
  {
   "cell_type": "markdown",
   "id": "dd89c0e5-ff1b-40a5-92e1-533e8defc8cf",
   "metadata": {},
   "source": [
    "arr.reshape"
   ]
  },
  {
   "cell_type": "code",
   "execution_count": 83,
   "id": "511d8950-765d-4e8f-b685-21e9f075a6f5",
   "metadata": {},
   "outputs": [
    {
     "data": {
      "text/plain": [
       "array([    1,     4,     9, 90000, 90000, 90000])"
      ]
     },
     "execution_count": 83,
     "metadata": {},
     "output_type": "execute_result"
    }
   ],
   "source": [
    "arr5*arr"
   ]
  },
  {
   "cell_type": "code",
   "execution_count": 84,
   "id": "860c00cb-027f-498c-8487-6f353170d92c",
   "metadata": {},
   "outputs": [
    {
     "data": {
      "text/plain": [
       "array([1., 1., 1., 1.])"
      ]
     },
     "execution_count": 84,
     "metadata": {},
     "output_type": "execute_result"
    }
   ],
   "source": [
    "np.ones(4)"
   ]
  },
  {
   "cell_type": "code",
   "execution_count": 85,
   "id": "dfe65880-924d-4a6c-9a48-355397a4b490",
   "metadata": {},
   "outputs": [
    {
     "data": {
      "text/plain": [
       "array([[1, 1, 1, 1, 1],\n",
       "       [1, 1, 1, 1, 1]])"
      ]
     },
     "execution_count": 85,
     "metadata": {},
     "output_type": "execute_result"
    }
   ],
   "source": [
    "np.ones((2,5),dtype=int)"
   ]
  },
  {
   "cell_type": "code",
   "execution_count": 87,
   "id": "887d106c-becd-48b7-85d4-649f272b2b92",
   "metadata": {},
   "outputs": [
    {
     "data": {
      "text/plain": [
       "array([[0.41475203, 0.81145461, 0.37493607],\n",
       "       [0.03461685, 0.4692751 , 0.1566211 ],\n",
       "       [0.94956168, 0.46462909, 0.53335053]])"
      ]
     },
     "execution_count": 87,
     "metadata": {},
     "output_type": "execute_result"
    }
   ],
   "source": [
    "np.random.rand(3,3)"
   ]
  },
  {
   "cell_type": "markdown",
   "id": "fd7161b8-4880-45ee-8ab5-c77a72644bec",
   "metadata": {},
   "source": [
    "# np.random.randn(4,4) using standard normal distribution"
   ]
  },
  {
   "cell_type": "code",
   "execution_count": 88,
   "id": "22a8f580-f2e4-4b49-b4a2-1380961cc2d4",
   "metadata": {},
   "outputs": [
    {
     "data": {
      "text/plain": [
       "array([[ 1.32028072,  0.09156672, -1.90049839,  1.08577991],\n",
       "       [ 0.95739875, -0.52213499, -0.27936331,  2.48639649],\n",
       "       [ 0.56300499, -0.46315847,  0.03113793,  0.6948643 ],\n",
       "       [ 1.2021956 ,  0.25848073,  0.60733812,  1.30037688]])"
      ]
     },
     "execution_count": 88,
     "metadata": {},
     "output_type": "execute_result"
    }
   ],
   "source": [
    "np.random.randn(4,4)"
   ]
  },
  {
   "cell_type": "code",
   "execution_count": 94,
   "id": "ba77708c-a485-4e1c-b7d2-246ada87f8d5",
   "metadata": {},
   "outputs": [
    {
     "data": {
      "text/plain": [
       "array([25, 75, 51, 79, 91, 88, 18, 15])"
      ]
     },
     "execution_count": 94,
     "metadata": {},
     "output_type": "execute_result"
    }
   ],
   "source": [
    "np.random.randint(4,100,8)"
   ]
  },
  {
   "cell_type": "code",
   "execution_count": 98,
   "id": "8ebea4d6-5bea-44aa-a22d-5d0e2f30eb94",
   "metadata": {},
   "outputs": [
    {
     "data": {
      "text/plain": [
       "array([[0.46380744, 0.77667598, 0.38353361, 0.26892197, 0.96419022],\n",
       "       [0.56711305, 0.61474037, 0.2553301 , 0.08222824, 0.73242419]])"
      ]
     },
     "execution_count": 98,
     "metadata": {},
     "output_type": "execute_result"
    }
   ],
   "source": [
    "np.random.random_sample((2,5))"
   ]
  },
  {
   "cell_type": "code",
   "execution_count": null,
   "id": "d112c54a-24d0-45fe-b1d5-d87466083b60",
   "metadata": {},
   "outputs": [],
   "source": []
  }
 ],
 "metadata": {
  "kernelspec": {
   "display_name": "Python 3 (ipykernel)",
   "language": "python",
   "name": "python3"
  },
  "language_info": {
   "codemirror_mode": {
    "name": "ipython",
    "version": 3
   },
   "file_extension": ".py",
   "mimetype": "text/x-python",
   "name": "python",
   "nbconvert_exporter": "python",
   "pygments_lexer": "ipython3",
   "version": "3.12.3"
  }
 },
 "nbformat": 4,
 "nbformat_minor": 5
}
