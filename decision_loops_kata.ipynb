{
 "cells": [
  {
   "cell_type": "markdown",
   "id": "ba0e2bac-717b-4d3c-92e8-f6679dc90ec0",
   "metadata": {},
   "source": [
    "### 1. arithmetic progression, predict nth term .. 1,4,9.16,25.. "
   ]
  },
  {
   "cell_type": "code",
   "execution_count": 3,
   "id": "0d6127c8-db3d-4386-9f2f-f90602f1d1c0",
   "metadata": {},
   "outputs": [
    {
     "name": "stdin",
     "output_type": "stream",
     "text": [
      " 5\n"
     ]
    },
    {
     "name": "stdout",
     "output_type": "stream",
     "text": [
      "25\n"
     ]
    }
   ],
   "source": [
    "n=int(input())\n",
    "if(n<0):\n",
    "    print('Error')\n",
    "if(n==0):\n",
    "    print(0)\n",
    "else :\n",
    "    print(n**2)"
   ]
  },
  {
   "cell_type": "markdown",
   "id": "10b8df69-5b29-4d4f-bb8e-ffe366656953",
   "metadata": {},
   "source": [
    "### 2. Using the method of looping, write a program to print the table of 9 till N in the format as follows:\n",
    "(N is input by the user)\n",
    "\n",
    "9 18 27...\n",
    "\n",
    "Print NULL if 0 is input"
   ]
  },
  {
   "cell_type": "code",
   "execution_count": 12,
   "id": "c48bc280-f12d-4a47-8f65-2c1bc460d697",
   "metadata": {},
   "outputs": [
    {
     "name": "stdin",
     "output_type": "stream",
     "text": [
      " 5\n"
     ]
    },
    {
     "name": "stdout",
     "output_type": "stream",
     "text": [
      "9 18 27 36 45\n"
     ]
    }
   ],
   "source": [
    "n=int(input())\n",
    "table9=[]\n",
    "i=1\n",
    "while i < n+1:\n",
    "    table9.append(9*i)\n",
    "    i=i+1\n",
    "print(*table9)\n"
   ]
  },
  {
   "cell_type": "markdown",
   "id": "c0f9f6ab-bd72-4879-a7a4-2018dc4195b2",
   "metadata": {},
   "source": [
    "### 3. Let \"A\" be a year, write a program to check whether this year is a leap year or not.\n",
    "\n",
    "Print \"Y\" if its a leap year and \"N\" if its a common year"
   ]
  },
  {
   "cell_type": "code",
   "execution_count": 16,
   "id": "3848ee83-d113-4835-8664-f2c9a905a34c",
   "metadata": {},
   "outputs": [
    {
     "name": "stdin",
     "output_type": "stream",
     "text": [
      " 2020\n"
     ]
    },
    {
     "name": "stdout",
     "output_type": "stream",
     "text": [
      "Y\n"
     ]
    }
   ],
   "source": [
    "a=int(input())\n",
    "if(a%2==0):\n",
    "    print(\"Y\")\n",
    "else:\n",
    "    print(\"N\")"
   ]
  },
  {
   "cell_type": "markdown",
   "id": "91d9512d-2f28-4e2a-be29-f6ce693bd878",
   "metadata": {},
   "source": [
    "### 4. You are given with a number A i.e. the temperature in Celcius. Write a program to convert this into Fahrenheit. \n",
    "\n",
    "Note: In case of decimal values, round-off to two decimal places.\n",
    "\n",
    "Input Description:\n",
    "A number is provided in Celcius as the input of the program.\n",
    "\n",
    "Output Description:\n",
    "The output shall be the temperature converted into Fahrenheit corresponding to the input value print up to two decimal places and round off if required."
   ]
  },
  {
   "cell_type": "markdown",
   "id": "a0ab2ffc-80bf-49ae-8eef-fcdbdbc3a098",
   "metadata": {},
   "source": [
    "F = 9/5 C + 32 or F = 1.8 C + 32\n"
   ]
  },
  {
   "cell_type": "code",
   "execution_count": 18,
   "id": "fc96ff5c-66e3-446f-a37e-36f89d20635d",
   "metadata": {},
   "outputs": [
    {
     "name": "stdin",
     "output_type": "stream",
     "text": [
      " 1\n"
     ]
    },
    {
     "name": "stdout",
     "output_type": "stream",
     "text": [
      "33.8\n"
     ]
    }
   ],
   "source": [
    "celcius=float(input())\n",
    "fahrenheit=(9/5)*celcius+32\n",
    "print(round(fahrenheit, 2))"
   ]
  },
  {
   "cell_type": "markdown",
   "id": "4f006799-66e7-4d8d-96db-90dd011da392",
   "metadata": {},
   "source": [
    "### 5. You are given three numbers A, B & C. Print the largest amongst these three numbers.\n",
    "\n",
    "Input Description:\n",
    "Three numbers are provided to you on diff lines.\n",
    "\n",
    "Output Description:\n",
    "Find and print the largest among the three"
   ]
  },
  {
   "cell_type": "code",
   "execution_count": 26,
   "id": "1d93b406-2b16-4e71-9684-e85b1a3a0557",
   "metadata": {},
   "outputs": [
    {
     "name": "stdin",
     "output_type": "stream",
     "text": [
      " 5\n",
      " 10\n",
      " 50\n"
     ]
    },
    {
     "name": "stdout",
     "output_type": "stream",
     "text": [
      "50\n"
     ]
    }
   ],
   "source": [
    "a=int(input())\n",
    "b=int(input())\n",
    "c=int(input())\n",
    "\n",
    "if(a>b and a>c):\n",
    "    print(a)\n",
    "elif(b>a and b>c):\n",
    "    print(b)\n",
    "else:\n",
    "    print(c)"
   ]
  },
  {
   "cell_type": "markdown",
   "id": "cc7aaacd-3689-41a8-9185-dbc77ab3f089",
   "metadata": {},
   "source": [
    "### 6.You are provided with a number check whether its odd or even. \r\n",
    "\r\n",
    "Print \"Odd\" or \"Even\" for the corresponding cases.\r\n",
    "\r\n",
    "Note: In case of a decimal, Round off to nearest integer and then find the output. Incase the input is zero, print \"Zero\".\r\n",
    "\r\n",
    "Input Description:\r\n",
    "A number is provided as the input.\r\n",
    "\r\n",
    "Output Description:\r\n",
    "Find out whether the number is odd or even. Print \"Odd\" or \"Even\" for the corresponding cases. Note: In case of a decimal, Round off to nearest integer and then find the output. In case the input is zero, print \"Zero\".\r\n",
    "\r\n",
    "Sample Input :\r\n",
    "2\r\n",
    "Sample Output :\r\n",
    "Even\r\n"
   ]
  },
  {
   "cell_type": "code",
   "execution_count": 31,
   "id": "66340ea6-73aa-4046-b56d-0f7e1f583194",
   "metadata": {},
   "outputs": [
    {
     "name": "stdin",
     "output_type": "stream",
     "text": [
      " 6\n"
     ]
    },
    {
     "name": "stdout",
     "output_type": "stream",
     "text": [
      "Even\n"
     ]
    }
   ],
   "source": [
    "n=float(input())\n",
    "n1=round(n)\n",
    "if(n1==0):\n",
    "    print('Zero')\n",
    "if(n1%2==0):\n",
    "    print('Even')\n",
    "else:\n",
    "    print('Odd')\n",
    "\n"
   ]
  },
  {
   "cell_type": "code",
   "execution_count": 33,
   "id": "c6a9539a-7162-4bfb-9dbf-2b90f7d4d3b0",
   "metadata": {},
   "outputs": [
    {
     "name": "stdin",
     "output_type": "stream",
     "text": [
      " 5\n"
     ]
    },
    {
     "name": "stdout",
     "output_type": "stream",
     "text": [
      "1\n",
      "2\n",
      "3\n",
      "4\n",
      "5\n"
     ]
    }
   ],
   "source": [
    "n=int(input())\n",
    "for i in range(1,n+1):\n",
    "    print(i)"
   ]
  },
  {
   "cell_type": "markdown",
   "id": "586e5378-b676-4e66-9faf-e6e1a7b824fd",
   "metadata": {},
   "source": [
    "### You will be provided with a number. Print the number of days in the month corresponding to that number.\n",
    "\n",
    "Note: In case the input is February, print 28 days. If the Input is not in valid range print \"Error\".\n",
    "\n",
    "Input Description:\n",
    "The input is in the form of a number.\n",
    "\n",
    "Output Description:\n",
    "Find the days in the month corresponding to the input number. Print Error if the input is not in a valid range."
   ]
  },
  {
   "cell_type": "code",
   "execution_count": 38,
   "id": "1f896800-3ab5-4cdb-b635-0108e6b6e217",
   "metadata": {},
   "outputs": [
    {
     "name": "stdin",
     "output_type": "stream",
     "text": [
      " 10\n"
     ]
    },
    {
     "name": "stdout",
     "output_type": "stream",
     "text": [
      "31\n"
     ]
    }
   ],
   "source": [
    "n=int(input())\n",
    "\n",
    "if(n<1 or n>12):\n",
    "    print('Error')\n",
    "elif(n==1 or n==3 or n==5 or n==7 or n==8 or n==10 or n==12):\n",
    "    print('31')\n",
    "elif (n==4 or n==6 or n==9 or n==11):\n",
    "    print('30')\n",
    "elif(n==2):\n",
    "    print('28')\n"
   ]
  },
  {
   "cell_type": "markdown",
   "id": "bc7289cd-9e63-4d36-a0ee-7caabb94f8d6",
   "metadata": {},
   "source": [
    "### Print the First 3 multiples of the given number \"N\". (N is a positive integer)\r\n",
    "\r\n",
    "Note: print the characters with a single space between them.\r\n",
    "\r\n",
    "Input Description:\r\n",
    "A positive integer is provided to you as an input.\r\n",
    "\r\n",
    "Output Description:\r\n",
    "Print the First 3 multiples of the number with single spaces between them as an le Input :"
   ]
  },
  {
   "cell_type": "markdown",
   "id": "42a14325-4a33-48bf-a665-87b7c680aa21",
   "metadata": {},
   "source": [
    "### Write a code to get an integer N and print the sum of  values from 1 to N.\n",
    "\n",
    "Input Description:\n",
    "A single line contains an integer N.\n",
    "\n",
    "Output Description:\n",
    "Print the sum of values from 1 to N."
   ]
  },
  {
   "cell_type": "code",
   "execution_count": 45,
   "id": "f8f10c4b-e58d-4ff8-9b1c-f64a5adb62a4",
   "metadata": {},
   "outputs": [
    {
     "name": "stdin",
     "output_type": "stream",
     "text": [
      " 5\n"
     ]
    },
    {
     "name": "stdout",
     "output_type": "stream",
     "text": [
      "15\n"
     ]
    }
   ],
   "source": [
    "n=int(input())\n",
    "s=0\n",
    "for i in range(1,n+1):\n",
    "    s=s+i\n",
    "print(s)"
   ]
  },
  {
   "cell_type": "markdown",
   "id": "ad222c7f-0ad8-4b20-8bbb-f9b5b0d6772e",
   "metadata": {},
   "source": [
    "### You are given with Principle amount($), Interest Rate(%) and Time (years) in that order. Find Simple Interest.\r\n",
    "\r\n",
    "Print the output up to two decimal places (Round-off if necessary).\r\n",
    "\r\n",
    "(S.I. = P*T*R/100)\r\n",
    "\r\n",
    "Input Description:\r\n",
    "Three values are given to you as the input. these values correspond to Principle amount, Interest Rate and Time in that particular order.\r\n",
    "\r\n",
    "Output Description:\r\n",
    "Find the Simple interest and print it up to two decimal places. Round off if required."
   ]
  },
  {
   "cell_type": "code",
   "execution_count": 47,
   "id": "f096d313-7c20-4df8-b856-10eeff54e458",
   "metadata": {},
   "outputs": [
    {
     "name": "stdin",
     "output_type": "stream",
     "text": [
      " 1000 2 5\n"
     ]
    },
    {
     "name": "stdout",
     "output_type": "stream",
     "text": [
      "100.0\n"
     ]
    }
   ],
   "source": [
    "p,r,t=map(float,input().split())\n",
    "si=p*t*r/100\n",
    "print(round(si,2))"
   ]
  },
  {
   "cell_type": "markdown",
   "id": "9df30442-8423-454f-aa79-2b286397ac8e",
   "metadata": {},
   "source": [
    "### You are provided with two numbers. Find and print the smaller number.\n",
    "\n",
    "Input Description:\n",
    "You are provided with two numbers as input.\n",
    "\n",
    "Output Description:\n",
    "Print the small number out of the two numbers."
   ]
  },
  {
   "cell_type": "code",
   "execution_count": 50,
   "id": "62e0373f-793f-4c5e-a121-a8b175c3207e",
   "metadata": {},
   "outputs": [
    {
     "name": "stdin",
     "output_type": "stream",
     "text": [
      " 1 23\n"
     ]
    },
    {
     "name": "stdout",
     "output_type": "stream",
     "text": [
      "1\n"
     ]
    }
   ],
   "source": [
    "a,b=map(int,input().split())\n",
    "if(a<b):\n",
    "    print(a)\n",
    "else:\n",
    "    print(b)"
   ]
  },
  {
   "cell_type": "code",
   "execution_count": 52,
   "id": "91ee9500-f4ef-4175-ade6-39d57f0ef1a1",
   "metadata": {},
   "outputs": [
    {
     "name": "stdin",
     "output_type": "stream",
     "text": [
      " 2 3\n"
     ]
    },
    {
     "name": "stdout",
     "output_type": "stream",
     "text": [
      "2\n",
      "2\n",
      "2\n"
     ]
    }
   ],
   "source": [
    "a,n=map(int,input().split())\n",
    "i=0\n",
    "for i in range(i,n):\n",
    "    print(a)"
   ]
  },
  {
   "cell_type": "markdown",
   "id": "25777eaf-97ec-4c1a-b04b-dd4404e0b2f2",
   "metadata": {},
   "source": [
    "### Write a code to get 2 integers as input and find the HCF of the 2 integer without using recursion or Euclidean algorithm.\n",
    "\n",
    "Input Description:\n",
    "A single line containing 2 integers separated by space.\n",
    "\n",
    "Output Description:\n",
    "Print the HCF of the integers."
   ]
  },
  {
   "cell_type": "code",
   "execution_count": 62,
   "id": "3f337ba4-8f74-44b6-83e1-aee4dedd6239",
   "metadata": {},
   "outputs": [
    {
     "name": "stdin",
     "output_type": "stream",
     "text": [
      " 56 64\n"
     ]
    },
    {
     "name": "stdout",
     "output_type": "stream",
     "text": [
      "8\n"
     ]
    }
   ],
   "source": [
    "def hcf(a,b):\n",
    "    if(b%a==0):\n",
    "        print(a)\n",
    "    else:\n",
    "        i=a//2\n",
    "        while i>=1:\n",
    "            if(a%i==0 and b%i==0):\n",
    "                print(i)\n",
    "                break\n",
    "            else:\n",
    "                i=i-1\n",
    "    \n",
    "a,b=map(int,input().split())\n",
    "if(a==b):\n",
    "    print(a)\n",
    "elif(a<b):\n",
    "    hcf(a,b)\n",
    "else:\n",
    "    hcf(b,a)\n",
    "    \n"
   ]
  },
  {
   "cell_type": "markdown",
   "id": "f7e305b6-8879-4636-b3d5-2999ce7fa9fc",
   "metadata": {},
   "source": [
    "### Write a code to get an integer N and print the values from N to 1.\n",
    "\n",
    "Input Description:\n",
    "A single line contains an integer N.\n",
    "\n",
    "Output Description:\n",
    "Print the values from N to 1 in a separate line."
   ]
  },
  {
   "cell_type": "code",
   "execution_count": 3,
   "id": "a884dfb5-d6b4-4eee-8ee7-d9d92fb2af4f",
   "metadata": {},
   "outputs": [
    {
     "name": "stdin",
     "output_type": "stream",
     "text": [
      " 5\n"
     ]
    },
    {
     "name": "stdout",
     "output_type": "stream",
     "text": [
      "5\n",
      "4\n",
      "3\n",
      "2\n",
      "1\n"
     ]
    }
   ],
   "source": [
    "n=int(input())\n",
    "i=n\n",
    "while i>0:\n",
    "    print(i)\n",
    "    i=i-1"
   ]
  },
  {
   "cell_type": "markdown",
   "id": "d8ed3021-da18-43d6-b306-8a4e13475fec",
   "metadata": {},
   "source": [
    "### Write a code to get an integer N and print the even values from 1 till N in a separate line.\n",
    "\n",
    "Input Description:\n",
    "A single line contains an integer N.\n",
    "\n",
    "Output Description:\n",
    "Print the even values from 1 to N in a separate line."
   ]
  },
  {
   "cell_type": "markdown",
   "id": "7a5b7fe1-5266-4432-83ae-6685f4462a0a",
   "metadata": {},
   "source": [
    " "
   ]
  },
  {
   "cell_type": "code",
   "execution_count": 10,
   "id": "e30c530c-81e9-405c-bc09-7b30ef173fd3",
   "metadata": {},
   "outputs": [
    {
     "name": "stdin",
     "output_type": "stream",
     "text": [
      " 5\n"
     ]
    },
    {
     "name": "stdout",
     "output_type": "stream",
     "text": [
      "2\n",
      "4\n"
     ]
    }
   ],
   "source": [
    "n=int(input())\n",
    "i=2\n",
    "while (i<n+1):\n",
    "    print(i)\n",
    "    i=i+2"
   ]
  },
  {
   "cell_type": "code",
   "execution_count": null,
   "id": "0d06381a-2554-40f6-97f4-bcb3740ef53b",
   "metadata": {},
   "outputs": [],
   "source": []
  }
 ],
 "metadata": {
  "kernelspec": {
   "display_name": "Python 3 (ipykernel)",
   "language": "python",
   "name": "python3"
  },
  "language_info": {
   "codemirror_mode": {
    "name": "ipython",
    "version": 3
   },
   "file_extension": ".py",
   "mimetype": "text/x-python",
   "name": "python",
   "nbconvert_exporter": "python",
   "pygments_lexer": "ipython3",
   "version": "3.12.1"
  }
 },
 "nbformat": 4,
 "nbformat_minor": 5
}
