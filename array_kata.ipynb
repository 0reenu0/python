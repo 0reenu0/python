{
 "cells": [
  {
   "cell_type": "code",
   "execution_count": 22,
   "id": "45af26d7-ef05-4f5e-83c3-7c4208dccad8",
   "metadata": {},
   "outputs": [
    {
     "name": "stdin",
     "output_type": "stream",
     "text": [
      " 3\n",
      " 8 8 8\n",
      " 7 8 9 10\n"
     ]
    },
    {
     "data": {
      "text/plain": [
       "[7, 8, 9]"
      ]
     },
     "execution_count": 22,
     "metadata": {},
     "output_type": "execute_result"
    }
   ],
   "source": [
    "n=int(input())\n",
    "warr1=[int(i) for i in input().split()][:n]\n",
    "warr=list(map(int,input().split()))[:n]\n",
    "b=[]\n",
    "warr\n"
   ]
  },
  {
   "cell_type": "code",
   "execution_count": 23,
   "id": "988f5e2b-6dec-42b7-9527-2d0861265b23",
   "metadata": {},
   "outputs": [
    {
     "name": "stdout",
     "output_type": "stream",
     "text": [
      "1\n"
     ]
    }
   ],
   "source": [
    "for i in range(1,len(warr)):\n",
    "    b.append(abs(warr[i]-warr[i-1]))\n",
    "air=min(b)\n",
    "print(air)\n",
    "    "
   ]
  },
  {
   "cell_type": "code",
   "execution_count": 10,
   "id": "818bbd4a-f9ed-4626-b348-3f692eaf296b",
   "metadata": {},
   "outputs": [
    {
     "name": "stdin",
     "output_type": "stream",
     "text": [
      " 2\n"
     ]
    },
    {
     "name": "stdout",
     "output_type": "stream",
     "text": [
      "4000\n"
     ]
    }
   ],
   "source": [
    "n1=int(input())\n",
    "s1=1000\n",
    "for i in range(1,n1+1):\n",
    "    s1+=i*1000\n",
    "print(s1)"
   ]
  },
  {
   "cell_type": "markdown",
   "id": "3b7ef2a3-9a11-401a-97df-0029d1a5f14f",
   "metadata": {},
   "source": [
    "##### You are given an array of ids of prisoners. The jail authority found that there are some prisoners of same id. Your task is to help the authority in finding the common ids.\n",
    "\n",
    "Input Description:\n",
    "First line contains a number ‘n’ representing no of prisoners. Next line contains n space separated numbers.\n",
    "\n",
    "Output Description:\n",
    "Print the ids which are not unique. Print -1 if all ids are unique\n",
    "\n",
    "Sample Input :\n",
    "7\n",
    "1 1 11 121 131 141 98\n",
    "Sample Output :\n",
    "1"
   ]
  },
  {
   "cell_type": "code",
   "execution_count": 6,
   "id": "985b5aa9-f62e-440f-8216-9c970246343d",
   "metadata": {},
   "outputs": [
    {
     "name": "stdin",
     "output_type": "stream",
     "text": [
      " 7\n",
      " 1 1 11 121 131 141 98\n"
     ]
    },
    {
     "name": "stdout",
     "output_type": "stream",
     "text": [
      "1\n"
     ]
    }
   ],
   "source": [
    "\n",
    "n=int(input())\n",
    "ids=list(map(int,input().split()))\n",
    "dup=[]\n",
    "for i in ids:\n",
    "    if i not in dup and ids.count(i)>1:\n",
    "        dup.append(i)\n",
    "print(*dup)"
   ]
  },
  {
   "cell_type": "markdown",
   "id": "88a2a12f-e5f2-4745-8f63-c7f2f511c733",
   "metadata": {},
   "source": [
    "#### you are given with array of numbers.you have to find whether array is beautiful or not. A beautiful array is an array whose sum of all numbers is divisible by 2, 3 and 5\n",
    "\n",
    "Input Description:\n",
    "You are given a number ‘n’ denoting the size of array.Next line contains n space separated numbers.\n",
    "\n",
    "Output Description:\n",
    "Print 1 if array is beautiful and 0 if it is not\n",
    "\n",
    "Sample Input :\n",
    "5\n",
    "5 25 35 -5 30\n",
    "Sample Output :\n",
    "1"
   ]
  },
  {
   "cell_type": "code",
   "execution_count": 3,
   "id": "e3253cd3-bc45-4c5a-b0f8-f4b018089177",
   "metadata": {},
   "outputs": [
    {
     "name": "stdin",
     "output_type": "stream",
     "text": [
      " 2\n",
      " 5 6\n"
     ]
    },
    {
     "name": "stdout",
     "output_type": "stream",
     "text": [
      "0\n"
     ]
    }
   ],
   "source": [
    "n2=int(input())\n",
    "nos=list(map(int,input().split()))\n",
    "s2=sum(nos)\n",
    "if s2%2==0 and s2%3==0 and s2%5==0:\n",
    "    print(1)\n",
    "else:\n",
    "    print(0)"
   ]
  },
  {
   "cell_type": "markdown",
   "id": "32f00bf3-bb51-49b8-87dd-94612d539899",
   "metadata": {},
   "source": [
    "#### You are given an array. Your task is to sort the array in given manner. Print the elements in increasing order of the frequency. If frequency is same print smaller one first.\n",
    "\n",
    "Input Description:\n",
    "You are given a number ‘n’. Then in next line n space separated numbers.\n",
    "\n",
    "Output Description:\n",
    "Print the array as mentioned\n",
    "\n",
    "Sample Input :\n",
    "4\n",
    "1 1 3 2\n",
    "Sample Output :\n",
    "2 3 1"
   ]
  },
  {
   "cell_type": "code",
   "execution_count": 40,
   "id": "d09c0974-f672-4ac9-aa01-8599331c9cff",
   "metadata": {},
   "outputs": [
    {
     "name": "stdin",
     "output_type": "stream",
     "text": [
      " 4\n",
      " 1 1 3 2\n"
     ]
    },
    {
     "name": "stdout",
     "output_type": "stream",
     "text": [
      "2 3 1\n"
     ]
    }
   ],
   "source": [
    "from collections import Counter\n",
    "n3=int(input())\n",
    "nos1=list(map(int,input().split()))\n",
    "sorted_nos=sorted(nos1)\n",
    "freq=[k for k,v in sorted(Counter(sorted_nos).items(),key=lambda item:item[1])]\n",
    "print(*freq)"
   ]
  },
  {
   "cell_type": "markdown",
   "id": "0ef9904c-9849-4038-aa16-ca236c7f53ad",
   "metadata": {},
   "source": [
    "#### You are given an array of numbers. Print the least occurring element. If there is more than 1 element print all of them in decreasing order of their value.\n",
    "\n",
    "Input Description:\n",
    "You are given a number ‘n’ denoting size of array. Next line contains n space separated numbers.\n",
    "\n",
    "Output Description:\n",
    "Print the number as mentioned\n",
    "\n",
    "Sample Input :\n",
    "9\n",
    "1 6 4 56 56 56 6 4 2\n",
    "Sample Output :\n",
    "2 1"
   ]
  },
  {
   "cell_type": "code",
   "execution_count": 43,
   "id": "285db1cf-c27e-4bb7-a3e4-479febd885b0",
   "metadata": {},
   "outputs": [
    {
     "name": "stdin",
     "output_type": "stream",
     "text": [
      " 9\n",
      " 1 6 4 56 56 56 6 4 2\n"
     ]
    },
    {
     "name": "stdout",
     "output_type": "stream",
     "text": [
      "2 1\n"
     ]
    }
   ],
   "source": [
    "from collections import Counter\n",
    "n4=int(input())\n",
    "nos2=list(map(int,input().split()))\n",
    "count=Counter(nos2)\n",
    "v1=[k for k,v in count.items() if v==min(count.values())]\n",
    "v1.sort(reverse=True)\n",
    "print(*v1)\n",
    "    "
   ]
  },
  {
   "cell_type": "code",
   "execution_count": null,
   "id": "e48588ba-0a59-4d1c-8c98-050ee324ca0d",
   "metadata": {},
   "outputs": [],
   "source": []
  },
  {
   "cell_type": "code",
   "execution_count": null,
   "id": "7462d908-c87b-4a61-92dd-268f831109c6",
   "metadata": {},
   "outputs": [],
   "source": []
  }
 ],
 "metadata": {
  "kernelspec": {
   "display_name": "Python 3 (ipykernel)",
   "language": "python",
   "name": "python3"
  },
  "language_info": {
   "codemirror_mode": {
    "name": "ipython",
    "version": 3
   },
   "file_extension": ".py",
   "mimetype": "text/x-python",
   "name": "python",
   "nbconvert_exporter": "python",
   "pygments_lexer": "ipython3",
   "version": "3.12.2"
  }
 },
 "nbformat": 4,
 "nbformat_minor": 5
}
