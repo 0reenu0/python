{
 "cells": [
  {
   "cell_type": "markdown",
   "id": "9f0274eb-e87a-43fd-b7da-7e32660d9acd",
   "metadata": {},
   "source": [
    "### sorted(<list>), returns a new sorted list, no changes to original list , \n",
    "takes in one argument reverse, that can be passed True or False depending on requirements"
   ]
  },
  {
   "cell_type": "code",
   "execution_count": 20,
   "id": "8f078419-5ee8-4469-936c-80c89a08276c",
   "metadata": {},
   "outputs": [
    {
     "name": "stdin",
     "output_type": "stream",
     "text": [
      " 3\n",
      " 1 2 3 4\n",
      " 5 6 8 10\n",
      " 1 2 5 7\n"
     ]
    },
    {
     "name": "stdout",
     "output_type": "stream",
     "text": [
      "1 1 2 2 3 4 5 5 6 7 8 10\n"
     ]
    }
   ],
   "source": [
    "\n",
    "k = list(map(int,input().split()))[0]\n",
    "i=0\n",
    "sorted_list=[]\n",
    "while i<k:\n",
    "    sorted_list.extend(list(map(int, input().split())))\n",
    "    i=i+1\n",
    "new_list=sorted(sorted_list)\n",
    "print(*new_list)\n"
   ]
  },
  {
   "cell_type": "code",
   "execution_count": null,
   "id": "6bf0e45d-b3e3-4f32-beb1-59d098cc86f1",
   "metadata": {},
   "outputs": [],
   "source": [
    "\n",
    "k = list(map(int,input().split()))[0]\n",
    "i=0\n",
    "sorted_list=[]\n",
    "while i<k:\n",
    "    sorted_list.extend(list(map(int, input().split())))\n",
    "    i=i+1\n",
    "print(sorted(sorted_list))\n",
    "sorted_list"
   ]
  },
  {
   "cell_type": "markdown",
   "id": "c31b9943-d025-492c-bc04-ea44a0eebc71",
   "metadata": {},
   "source": [
    "### list.sort(), sorts the list inplace, \n",
    "takes in one argument reverse, that can be passed True or False depending on requirements"
   ]
  },
  {
   "cell_type": "code",
   "execution_count": 14,
   "id": "a9333368-25ec-42b0-ae61-ea34fb3b81c1",
   "metadata": {},
   "outputs": [
    {
     "name": "stdin",
     "output_type": "stream",
     "text": [
      " 3\n",
      " 1 2 3 \n",
      " 4 5 6\n",
      " 1 2 3 8 10 11 12\n"
     ]
    },
    {
     "data": {
      "text/plain": [
       "[1, 1, 2, 2, 3, 3, 4, 5, 6, 8, 10, 11, 12]"
      ]
     },
     "execution_count": 14,
     "metadata": {},
     "output_type": "execute_result"
    }
   ],
   "source": [
    "\n",
    "k = list(map(int,input().split()))[0]\n",
    "i=0\n",
    "sorted_list=[]\n",
    "while i<k:\n",
    "    sorted_list.extend(list(map(int, input().split())))\n",
    "    i=i+1\n",
    "sorted_list.sort(reverse=False)\n",
    "sorted_list"
   ]
  },
  {
   "cell_type": "code",
   "execution_count": 15,
   "id": "e19860ca-7a92-49c7-8b10-ea7f2ab8a049",
   "metadata": {},
   "outputs": [
    {
     "name": "stdin",
     "output_type": "stream",
     "text": [
      " 3\n",
      " 4 5 6\n",
      " 1 2 3\n",
      " 11 22 33\n"
     ]
    },
    {
     "data": {
      "text/plain": [
       "[33, 22, 11, 6, 5, 4, 3, 2, 1]"
      ]
     },
     "execution_count": 15,
     "metadata": {},
     "output_type": "execute_result"
    }
   ],
   "source": [
    "\n",
    "k = list(map(int,input().split()))[0]\n",
    "i=0\n",
    "sorted_list=[]\n",
    "while i<k:\n",
    "    sorted_list.extend(list(map(int, input().split())))\n",
    "    i=i+1\n",
    "sorted_list.sort(reverse=True)\n",
    "sorted_list"
   ]
  },
  {
   "cell_type": "code",
   "execution_count": null,
   "id": "03e5f5b6-43e3-46ed-a3c4-3b8be0d07e63",
   "metadata": {},
   "outputs": [],
   "source": []
  }
 ],
 "metadata": {
  "kernelspec": {
   "display_name": "Python 3 (ipykernel)",
   "language": "python",
   "name": "python3"
  },
  "language_info": {
   "codemirror_mode": {
    "name": "ipython",
    "version": 3
   },
   "file_extension": ".py",
   "mimetype": "text/x-python",
   "name": "python",
   "nbconvert_exporter": "python",
   "pygments_lexer": "ipython3",
   "version": "3.12.3"
  }
 },
 "nbformat": 4,
 "nbformat_minor": 5
}
