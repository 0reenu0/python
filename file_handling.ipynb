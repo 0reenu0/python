{
 "cells": [
  {
   "cell_type": "code",
   "execution_count": 3,
   "id": "7d1e9844-55bc-4d95-8572-f1604f80fa67",
   "metadata": {},
   "outputs": [
    {
     "name": "stdout",
     "output_type": "stream",
     "text": [
      "hello I am Reenu\n"
     ]
    }
   ],
   "source": [
    "text=\"hello I am Reenu\"\n",
    "with open('D:\\\\Python\\\\car.txt','w') as f:\n",
    "    f.write(text)\n",
    "with open('D:\\\\Python\\\\car.txt','r') as f:\n",
    "    print(f.read())"
   ]
  },
  {
   "cell_type": "code",
   "execution_count": 14,
   "id": "e8873b38-38e5-433e-bda7-a750d7df1efb",
   "metadata": {},
   "outputs": [
    {
     "name": "stdout",
     "output_type": "stream",
     "text": [
      "['12', 'Reenu']\n",
      "[]\n",
      "['13', 'Joker']\n",
      "[]\n",
      "['12', 'Reenu']\n",
      "[]\n",
      "['13', 'Joker']\n",
      "[]\n"
     ]
    }
   ],
   "source": [
    "import csv\n",
    "\n",
    "csv_list=[[12, 'Reenu'],[13, 'Joker']]\n",
    "with open('D:\\\\Python\\\\test1.csv','a') as f:\n",
    "    wcsv=csv.writer(f)\n",
    "    wcsv.writerows(csv_list)\n",
    "    \n",
    "with open('D:\\\\Python\\\\test1.csv','r') as f:\n",
    "    rcsv=csv.reader(f)\n",
    "    for row in rcsv:\n",
    "        print(row)\n",
    "    "
   ]
  },
  {
   "cell_type": "code",
   "execution_count": 22,
   "id": "12d8dfeb-e333-45da-aae0-57ea37cba267",
   "metadata": {},
   "outputs": [
    {
     "name": "stdout",
     "output_type": "stream",
     "text": [
      "{'12': 'Reenu', '13': 'Joker'}\n"
     ]
    }
   ],
   "source": [
    "import json\n",
    "\n",
    "csv_json={'12':'Reenu','13':'Joker'}\n",
    "with open('D:\\\\Python\\\\test2.json','w') as f:\n",
    "    json.dump( csv_json,f)\n",
    "with open('D:\\\\Python\\\\test2.json','r') as f:\n",
    "    data=json.load(f)\n",
    "    print(data)\n",
    "\n"
   ]
  },
  {
   "cell_type": "code",
   "execution_count": null,
   "id": "f73a593d-fe04-4934-b999-60238f85627e",
   "metadata": {},
   "outputs": [],
   "source": []
  },
  {
   "cell_type": "code",
   "execution_count": null,
   "id": "823e4894-bb6d-4509-a1f8-176c55d571b3",
   "metadata": {},
   "outputs": [],
   "source": []
  }
 ],
 "metadata": {
  "kernelspec": {
   "display_name": "Python 3 (ipykernel)",
   "language": "python",
   "name": "python3"
  },
  "language_info": {
   "codemirror_mode": {
    "name": "ipython",
    "version": 3
   },
   "file_extension": ".py",
   "mimetype": "text/x-python",
   "name": "python",
   "nbconvert_exporter": "python",
   "pygments_lexer": "ipython3",
   "version": "3.12.2"
  }
 },
 "nbformat": 4,
 "nbformat_minor": 5
}
