{
 "cells": [
  {
   "cell_type": "markdown",
   "id": "6e122f6d-dc97-42f7-8305-88b08f5bce1e",
   "metadata": {},
   "source": [
    "# comments\n"
   ]
  },
  {
   "cell_type": "markdown",
   "id": "1087cc19-ed05-4b6b-88b4-e576c9bbea86",
   "metadata": {},
   "source": [
    "multi line comments using \"\"\" and # with "
   ]
  },
  {
   "cell_type": "code",
   "execution_count": 8,
   "id": "1d6dcd33-229d-4121-b5b8-2862ff7f62d8",
   "metadata": {},
   "outputs": [
    {
     "data": {
      "text/plain": [
       "' continue stop next line\\nyes '"
      ]
     },
     "execution_count": 8,
     "metadata": {},
     "output_type": "execute_result"
    }
   ],
   "source": [
    "# this a comment that uses backslash\n",
    "''' continue stop next line\n",
    "yes '''"
   ]
  },
  {
   "cell_type": "code",
   "execution_count": 9,
   "id": "bad5e5c6-bbb2-42e1-b0de-b6f665d90d62",
   "metadata": {},
   "outputs": [
    {
     "data": {
      "text/plain": [
       "' this is also multi-line \\ncomment'"
      ]
     },
     "execution_count": 9,
     "metadata": {},
     "output_type": "execute_result"
    }
   ],
   "source": [
    "\"\"\" this is also multi-line \n",
    "comment\"\"\""
   ]
  },
  {
   "cell_type": "code",
   "execution_count": 10,
   "id": "e38f2f32-3726-4a01-9103-798f22eae845",
   "metadata": {},
   "outputs": [],
   "source": [
    "# used for code readability\n",
    "#this is also a way to have utiline comments\n"
   ]
  },
  {
   "cell_type": "code",
   "execution_count": null,
   "id": "e510c4a3-5720-48de-ad68-50bb21b41be0",
   "metadata": {},
   "outputs": [],
   "source": []
  }
 ],
 "metadata": {
  "kernelspec": {
   "display_name": "Python 3 (ipykernel)",
   "language": "python",
   "name": "python3"
  },
  "language_info": {
   "codemirror_mode": {
    "name": "ipython",
    "version": 3
   },
   "file_extension": ".py",
   "mimetype": "text/x-python",
   "name": "python",
   "nbconvert_exporter": "python",
   "pygments_lexer": "ipython3",
   "version": "3.12.3"
  }
 },
 "nbformat": 4,
 "nbformat_minor": 5
}
