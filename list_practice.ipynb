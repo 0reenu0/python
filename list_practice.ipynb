{
 "cells": [
  {
   "cell_type": "markdown",
   "id": "749c6eea-cf15-4070-b860-a4823653cb45",
   "metadata": {},
   "source": [
    "### List the list data type has some more methods. \n",
    "##### Here are all of the methods of list objects:\n",
    "list.append(x)\n",
    "Add an item to the end of the list. Equivalent to a[len(a):] = [x].\n",
    "\n",
    "list.extend(iterable)\n",
    "Extend the list by appending all the items from the iterable. Equivalent to a[len(a):] = iterable.\n",
    "\n",
    "list.insert(i, x)\n",
    "Insert an item at a given position. The first argument is the index of the element before which to insert, so a.insert(0, x) inserts at the front of the list, and a.insert(len(a), x) is equivalent to a.append(x).\n",
    "\n",
    "list.remove(x)\n",
    "Remove the first item from the list whose value is equal to x. It raises a ValueError if there is no such item.\n",
    "\n",
    "list.pop([i])\n",
    "Remove the item at the given position in the list, and return it. If no index is specified, a.pop() removes and returns the last item in the list. It raises an IndexError if the list is empty or the index is outside the list range.\n",
    "\n",
    "list.clear()\n",
    "Remove all items from the list. Equivalent to del a[:].\n",
    "\n",
    "list.index(x[, start[, end]])\n",
    "Return zero-based index in the list of the first item whose value is equal to x. Raises a ValueError if there is no such item.\n",
    "\n",
    "The optional arguments start and end are interpreted as in the slice notation and are used to limit the search to a particular subsequence of the list. The returned index is computed relative to the beginning of the full sequence rather than the start argument.\n",
    "\n",
    "list.count(x)\n",
    "Return the number of times x appears in the list.\n",
    "\n",
    "list.sort(*, key=None, reverse=False)\n",
    "Sort the items of the list in place (the arguments can be used for sort customization, see sorted() for their explanation).\n",
    "\n",
    "list.reverse()\n",
    "Reverse the elements of the list in place.\n",
    "\n",
    "list.copy()\n",
    "Return a shallow copy of the list. Equivalent to a[:]."
   ]
  },
  {
   "cell_type": "code",
   "execution_count": 31,
   "id": "d8f694e4-0049-4e06-8d5f-f57379ddf749",
   "metadata": {},
   "outputs": [
    {
     "data": {
      "text/plain": [
       "['apple', 'infosys', 'meta', 'alphabet', 'X']"
      ]
     },
     "execution_count": 31,
     "metadata": {},
     "output_type": "execute_result"
    }
   ],
   "source": [
    "mncs=['apple','infosys','meta','alphabet','X']\n",
    "mncs"
   ]
  },
  {
   "cell_type": "code",
   "execution_count": 32,
   "id": "48bcff79-aa3a-4b5f-ad23-b46b15499b6c",
   "metadata": {},
   "outputs": [
    {
     "data": {
      "text/plain": [
       "['apple', 'infosys', 'meta', 'alphabet', 'X', 'TCS']"
      ]
     },
     "execution_count": 32,
     "metadata": {},
     "output_type": "execute_result"
    }
   ],
   "source": [
    "mncs.append('TCS')\n",
    "mncs"
   ]
  },
  {
   "cell_type": "code",
   "execution_count": 33,
   "id": "ffb4bbab-5fbb-40f2-8636-74fe7db1a09b",
   "metadata": {},
   "outputs": [],
   "source": [
    "new_mncs=['microsoft','IBM','accenture']"
   ]
  },
  {
   "cell_type": "code",
   "execution_count": 34,
   "id": "50439d7a-c0f7-4aec-9d2d-f12ff760d694",
   "metadata": {},
   "outputs": [
    {
     "data": {
      "text/plain": [
       "['apple',\n",
       " 'infosys',\n",
       " 'meta',\n",
       " 'alphabet',\n",
       " 'X',\n",
       " 'TCS',\n",
       " 'microsoft',\n",
       " 'IBM',\n",
       " 'accenture']"
      ]
     },
     "execution_count": 34,
     "metadata": {},
     "output_type": "execute_result"
    }
   ],
   "source": [
    "mncs.extend(new_mncs)\n",
    "mncs"
   ]
  },
  {
   "cell_type": "code",
   "execution_count": 35,
   "id": "ca8e8a04-f7d7-4490-8225-227393e88bd3",
   "metadata": {},
   "outputs": [],
   "source": [
    "mncs.insert(4,'Thoughtworks')"
   ]
  },
  {
   "cell_type": "code",
   "execution_count": 36,
   "id": "d5402374-35df-426b-b0df-e7571dd43069",
   "metadata": {},
   "outputs": [
    {
     "data": {
      "text/plain": [
       "['apple',\n",
       " 'infosys',\n",
       " 'meta',\n",
       " 'alphabet',\n",
       " 'Thoughtworks',\n",
       " 'X',\n",
       " 'TCS',\n",
       " 'microsoft',\n",
       " 'IBM',\n",
       " 'accenture']"
      ]
     },
     "execution_count": 36,
     "metadata": {},
     "output_type": "execute_result"
    }
   ],
   "source": [
    "mncs"
   ]
  },
  {
   "cell_type": "code",
   "execution_count": 37,
   "id": "118401a3-697a-4b49-a083-32854b4659c4",
   "metadata": {},
   "outputs": [
    {
     "data": {
      "text/plain": [
       "'Thoughtworks'"
      ]
     },
     "execution_count": 37,
     "metadata": {},
     "output_type": "execute_result"
    }
   ],
   "source": [
    "mncs[4]"
   ]
  },
  {
   "cell_type": "markdown",
   "id": "18b51b42-622c-4b95-a849-dba115e49092",
   "metadata": {},
   "source": [
    "#### list.remove(x) Remove the first item from the list whose value is equal to x. It raises a ValueError if there is no such item."
   ]
  },
  {
   "cell_type": "code",
   "execution_count": 42,
   "id": "916e263d-13d9-482e-bfcb-1caca16d3303",
   "metadata": {},
   "outputs": [],
   "source": [
    "mncs.append('microsoft')"
   ]
  },
  {
   "cell_type": "code",
   "execution_count": 43,
   "id": "a5f24541-5b54-42a8-9f48-45139784ebef",
   "metadata": {},
   "outputs": [
    {
     "data": {
      "text/plain": [
       "['apple',\n",
       " 'infosys',\n",
       " 'meta',\n",
       " 'alphabet',\n",
       " 'Thoughtworks',\n",
       " 'X',\n",
       " 'TCS',\n",
       " 'IBM',\n",
       " 'accenture',\n",
       " 'microsoft']"
      ]
     },
     "execution_count": 43,
     "metadata": {},
     "output_type": "execute_result"
    }
   ],
   "source": [
    "mncs.remove('microsoft')\n",
    "mncs"
   ]
  },
  {
   "cell_type": "code",
   "execution_count": 44,
   "id": "bb24a923-6f64-45d3-b8fe-406622c71d79",
   "metadata": {},
   "outputs": [
    {
     "ename": "ValueError",
     "evalue": "list.remove(x): x not in list",
     "output_type": "error",
     "traceback": [
      "\u001b[1;31m---------------------------------------------------------------------------\u001b[0m",
      "\u001b[1;31mValueError\u001b[0m                                Traceback (most recent call last)",
      "Cell \u001b[1;32mIn[44], line 1\u001b[0m\n\u001b[1;32m----> 1\u001b[0m \u001b[43mmncs\u001b[49m\u001b[38;5;241;43m.\u001b[39;49m\u001b[43mremove\u001b[49m\u001b[43m(\u001b[49m\u001b[38;5;124;43m'\u001b[39;49m\u001b[38;5;124;43mv\u001b[39;49m\u001b[38;5;124;43m'\u001b[39;49m\u001b[43m)\u001b[49m\n",
      "\u001b[1;31mValueError\u001b[0m: list.remove(x): x not in list"
     ]
    }
   ],
   "source": [
    "mncs.remove('v')"
   ]
  },
  {
   "cell_type": "code",
   "execution_count": 45,
   "id": "c5564690-0650-4caa-8cb4-417e2ac83ff1",
   "metadata": {},
   "outputs": [],
   "source": [
    "mnc=mncs.pop()"
   ]
  },
  {
   "cell_type": "code",
   "execution_count": 46,
   "id": "ca94b9ae-fd10-483a-ac66-f41b2b263700",
   "metadata": {},
   "outputs": [
    {
     "data": {
      "text/plain": [
       "'microsoft'"
      ]
     },
     "execution_count": 46,
     "metadata": {},
     "output_type": "execute_result"
    }
   ],
   "source": [
    "mnc"
   ]
  },
  {
   "cell_type": "code",
   "execution_count": 48,
   "id": "2f526975-cbb4-4a52-9e7e-36af9f40d4f3",
   "metadata": {},
   "outputs": [
    {
     "data": {
      "text/plain": [
       "['apple',\n",
       " 'infosys',\n",
       " 'meta',\n",
       " 'alphabet',\n",
       " 'Thoughtworks',\n",
       " 'X',\n",
       " 'TCS',\n",
       " 'IBM',\n",
       " 'accenture']"
      ]
     },
     "execution_count": 48,
     "metadata": {},
     "output_type": "execute_result"
    }
   ],
   "source": [
    "mncs"
   ]
  },
  {
   "cell_type": "code",
   "execution_count": 50,
   "id": "0bb09713-2e68-4be5-88e0-8361a545d89d",
   "metadata": {},
   "outputs": [
    {
     "data": {
      "text/plain": [
       "'X'"
      ]
     },
     "execution_count": 50,
     "metadata": {},
     "output_type": "execute_result"
    }
   ],
   "source": [
    "mncs.pop(5)"
   ]
  },
  {
   "cell_type": "code",
   "execution_count": 51,
   "id": "f10318af-9384-4578-a522-d7cbaf9e3794",
   "metadata": {},
   "outputs": [
    {
     "ename": "IndexError",
     "evalue": "pop index out of range",
     "output_type": "error",
     "traceback": [
      "\u001b[1;31m---------------------------------------------------------------------------\u001b[0m",
      "\u001b[1;31mIndexError\u001b[0m                                Traceback (most recent call last)",
      "Cell \u001b[1;32mIn[51], line 1\u001b[0m\n\u001b[1;32m----> 1\u001b[0m \u001b[43mmncs\u001b[49m\u001b[38;5;241;43m.\u001b[39;49m\u001b[43mpop\u001b[49m\u001b[43m(\u001b[49m\u001b[38;5;241;43m9\u001b[39;49m\u001b[43m)\u001b[49m\n",
      "\u001b[1;31mIndexError\u001b[0m: pop index out of range"
     ]
    }
   ],
   "source": [
    "mncs.pop(9)"
   ]
  },
  {
   "cell_type": "code",
   "execution_count": 54,
   "id": "a9ef188a-7f4d-4aa2-b87e-f2da933beaee",
   "metadata": {},
   "outputs": [
    {
     "data": {
      "text/plain": [
       "['apple',\n",
       " 'infosys',\n",
       " 'meta',\n",
       " 'alphabet',\n",
       " 'Thoughtworks',\n",
       " 'TCS',\n",
       " 'IBM',\n",
       " 'accenture']"
      ]
     },
     "execution_count": 54,
     "metadata": {},
     "output_type": "execute_result"
    }
   ],
   "source": [
    "mncs"
   ]
  },
  {
   "cell_type": "code",
   "execution_count": 53,
   "id": "6a37770d-fb98-42bf-bfc8-67cf3ae8f0f2",
   "metadata": {},
   "outputs": [
    {
     "data": {
      "text/plain": [
       "5"
      ]
     },
     "execution_count": 53,
     "metadata": {},
     "output_type": "execute_result"
    }
   ],
   "source": [
    "mncs.index('TCS',5,9)"
   ]
  },
  {
   "cell_type": "code",
   "execution_count": 55,
   "id": "620c1fd4-dbcf-4b6e-aa0c-7e0c0478966a",
   "metadata": {},
   "outputs": [
    {
     "ename": "ValueError",
     "evalue": "'X' is not in list",
     "output_type": "error",
     "traceback": [
      "\u001b[1;31m---------------------------------------------------------------------------\u001b[0m",
      "\u001b[1;31mValueError\u001b[0m                                Traceback (most recent call last)",
      "Cell \u001b[1;32mIn[55], line 1\u001b[0m\n\u001b[1;32m----> 1\u001b[0m \u001b[43mmncs\u001b[49m\u001b[38;5;241;43m.\u001b[39;49m\u001b[43mindex\u001b[49m\u001b[43m(\u001b[49m\u001b[38;5;124;43m'\u001b[39;49m\u001b[38;5;124;43mX\u001b[39;49m\u001b[38;5;124;43m'\u001b[39;49m\u001b[43m,\u001b[49m\u001b[38;5;241;43m5\u001b[39;49m\u001b[43m,\u001b[49m\u001b[38;5;241;43m9\u001b[39;49m\u001b[43m)\u001b[49m\n",
      "\u001b[1;31mValueError\u001b[0m: 'X' is not in list"
     ]
    }
   ],
   "source": [
    "mncs.index('X',5,9)"
   ]
  },
  {
   "cell_type": "code",
   "execution_count": 57,
   "id": "51207dd0-2c76-469e-a496-6e9fec375dfb",
   "metadata": {},
   "outputs": [
    {
     "data": {
      "text/plain": [
       "0"
      ]
     },
     "execution_count": 57,
     "metadata": {},
     "output_type": "execute_result"
    }
   ],
   "source": [
    "mncs.count('X')"
   ]
  },
  {
   "cell_type": "code",
   "execution_count": 62,
   "id": "fa7ee46b-27b0-4ed0-b39c-55836e1cbfd4",
   "metadata": {},
   "outputs": [],
   "source": [
    "mncs.append('X')\n",
    "mncs.append('microsoft')\n",
    "mncs.append('X')"
   ]
  },
  {
   "cell_type": "code",
   "execution_count": 64,
   "id": "e488129d-6e33-4da4-a688-cd73057d2c60",
   "metadata": {},
   "outputs": [
    {
     "data": {
      "text/plain": [
       "3"
      ]
     },
     "execution_count": 64,
     "metadata": {},
     "output_type": "execute_result"
    }
   ],
   "source": [
    "mncs.count('X')"
   ]
  },
  {
   "cell_type": "code",
   "execution_count": 65,
   "id": "e91cfa2a-c86b-41e9-8ed2-dce229487555",
   "metadata": {},
   "outputs": [
    {
     "data": {
      "text/plain": [
       "['apple',\n",
       " 'infosys',\n",
       " 'meta',\n",
       " 'alphabet',\n",
       " 'Thoughtworks',\n",
       " 'TCS',\n",
       " 'IBM',\n",
       " 'accenture',\n",
       " 'X',\n",
       " 'X',\n",
       " 'microsoft',\n",
       " 'X']"
      ]
     },
     "execution_count": 65,
     "metadata": {},
     "output_type": "execute_result"
    }
   ],
   "source": [
    "mncs"
   ]
  },
  {
   "cell_type": "code",
   "execution_count": 66,
   "id": "3cd69c82-b747-4492-9ade-89160a7c5d77",
   "metadata": {},
   "outputs": [
    {
     "data": {
      "text/plain": [
       "['apple',\n",
       " 'infosys',\n",
       " 'meta',\n",
       " 'alphabet',\n",
       " 'Thoughtworks',\n",
       " 'TCS',\n",
       " 'IBM',\n",
       " 'accenture',\n",
       " 'X',\n",
       " 'X',\n",
       " 'microsoft']"
      ]
     },
     "execution_count": 66,
     "metadata": {},
     "output_type": "execute_result"
    }
   ],
   "source": [
    "del mncs[len(mncs)-1]\n",
    "mncs\n"
   ]
  },
  {
   "cell_type": "markdown",
   "id": "43c4c75a-2f20-4d14-a1cf-f2c64097bb7f",
   "metadata": {},
   "source": [
    "#### list.sort(*, key=None, reverse=False) Sort the items of the list in place (the arguments can be used for sort customization, see sorted() for their explanation)."
   ]
  },
  {
   "cell_type": "code",
   "execution_count": 68,
   "id": "24ee78c1-8aa4-4a6b-9e9b-6800fa86fe9a",
   "metadata": {},
   "outputs": [],
   "source": [
    "mncs.sort()"
   ]
  },
  {
   "cell_type": "code",
   "execution_count": 69,
   "id": "8f3a70a6-8e15-4f67-8c61-1d72878d0ea5",
   "metadata": {},
   "outputs": [
    {
     "data": {
      "text/plain": [
       "['IBM',\n",
       " 'TCS',\n",
       " 'Thoughtworks',\n",
       " 'X',\n",
       " 'X',\n",
       " 'accenture',\n",
       " 'alphabet',\n",
       " 'apple',\n",
       " 'infosys',\n",
       " 'meta',\n",
       " 'microsoft']"
      ]
     },
     "execution_count": 69,
     "metadata": {},
     "output_type": "execute_result"
    }
   ],
   "source": [
    "mncs"
   ]
  },
  {
   "cell_type": "code",
   "execution_count": 72,
   "id": "ce8ea87f-c0e1-4cbc-97d9-70ca55eb0653",
   "metadata": {},
   "outputs": [
    {
     "data": {
      "text/plain": [
       "['microsoft',\n",
       " 'meta',\n",
       " 'infosys',\n",
       " 'apple',\n",
       " 'alphabet',\n",
       " 'accenture',\n",
       " 'X',\n",
       " 'X',\n",
       " 'Thoughtworks',\n",
       " 'TCS',\n",
       " 'IBM']"
      ]
     },
     "execution_count": 72,
     "metadata": {},
     "output_type": "execute_result"
    }
   ],
   "source": [
    "newList=sorted(mncs,reverse=True)\n",
    "newList"
   ]
  },
  {
   "cell_type": "code",
   "execution_count": 71,
   "id": "687ff022-81e5-4ea3-b7cb-505362a455fd",
   "metadata": {},
   "outputs": [
    {
     "data": {
      "text/plain": [
       "['IBM',\n",
       " 'TCS',\n",
       " 'Thoughtworks',\n",
       " 'X',\n",
       " 'X',\n",
       " 'accenture',\n",
       " 'alphabet',\n",
       " 'apple',\n",
       " 'infosys',\n",
       " 'meta',\n",
       " 'microsoft']"
      ]
     },
     "execution_count": 71,
     "metadata": {},
     "output_type": "execute_result"
    }
   ],
   "source": [
    "mncs"
   ]
  },
  {
   "cell_type": "code",
   "execution_count": 77,
   "id": "d96cc2ce-b29b-4944-a182-a0811002291c",
   "metadata": {},
   "outputs": [],
   "source": [
    "mncs.reverse()"
   ]
  },
  {
   "cell_type": "code",
   "execution_count": 78,
   "id": "80ead4c1-0cc7-417a-b66b-1f1e788ecb9e",
   "metadata": {},
   "outputs": [
    {
     "data": {
      "text/plain": [
       "['microsoft',\n",
       " 'meta',\n",
       " 'infosys',\n",
       " 'apple',\n",
       " 'alphabet',\n",
       " 'accenture',\n",
       " 'X',\n",
       " 'X',\n",
       " 'Thoughtworks',\n",
       " 'TCS',\n",
       " 'IBM']"
      ]
     },
     "execution_count": 78,
     "metadata": {},
     "output_type": "execute_result"
    }
   ],
   "source": [
    "mncs"
   ]
  },
  {
   "cell_type": "code",
   "execution_count": 79,
   "id": "4c1a19a0-2414-4971-b80a-f4683a4cc906",
   "metadata": {},
   "outputs": [
    {
     "data": {
      "text/plain": [
       "['microsoft',\n",
       " 'meta',\n",
       " 'infosys',\n",
       " 'apple',\n",
       " 'alphabet',\n",
       " 'accenture',\n",
       " 'X',\n",
       " 'X',\n",
       " 'Thoughtworks',\n",
       " 'TCS',\n",
       " 'IBM']"
      ]
     },
     "execution_count": 79,
     "metadata": {},
     "output_type": "execute_result"
    }
   ],
   "source": [
    "mncs_copy=mncs.copy()\n",
    "mncs_copy"
   ]
  },
  {
   "cell_type": "code",
   "execution_count": 81,
   "id": "d045fce5-f9e6-4c1d-acfe-a9afb5052a74",
   "metadata": {},
   "outputs": [],
   "source": [
    "mncs.remove('apple')"
   ]
  },
  {
   "cell_type": "code",
   "execution_count": 82,
   "id": "bdfe4e08-cc1f-4544-85d6-6f00fc781b2e",
   "metadata": {},
   "outputs": [
    {
     "data": {
      "text/plain": [
       "['microsoft',\n",
       " 'meta',\n",
       " 'infosys',\n",
       " 'alphabet',\n",
       " 'accenture',\n",
       " 'X',\n",
       " 'X',\n",
       " 'Thoughtworks',\n",
       " 'TCS',\n",
       " 'IBM']"
      ]
     },
     "execution_count": 82,
     "metadata": {},
     "output_type": "execute_result"
    }
   ],
   "source": [
    "mncs"
   ]
  },
  {
   "cell_type": "code",
   "execution_count": 84,
   "id": "cf8aa289-8c3b-4af8-bfb8-ee5f4acfc596",
   "metadata": {},
   "outputs": [
    {
     "data": {
      "text/plain": [
       "['microsoft',\n",
       " 'meta',\n",
       " 'infosys',\n",
       " 'apple',\n",
       " 'alphabet',\n",
       " 'accenture',\n",
       " 'X',\n",
       " 'X',\n",
       " 'Thoughtworks',\n",
       " 'TCS',\n",
       " 'IBM']"
      ]
     },
     "execution_count": 84,
     "metadata": {},
     "output_type": "execute_result"
    }
   ],
   "source": [
    "mncs_copy"
   ]
  },
  {
   "cell_type": "code",
   "execution_count": 85,
   "id": "c3904a05-4778-47f4-868f-77a07c04a4b0",
   "metadata": {},
   "outputs": [
    {
     "data": {
      "text/plain": [
       "['microsoft',\n",
       " 'meta',\n",
       " 'infosys',\n",
       " 'apple',\n",
       " 'alphabet',\n",
       " 'accenture',\n",
       " 'X',\n",
       " 'X',\n",
       " 'Thoughtworks',\n",
       " 'TCS']"
      ]
     },
     "execution_count": 85,
     "metadata": {},
     "output_type": "execute_result"
    }
   ],
   "source": [
    "mncs_copy.pop()\n",
    "mncs_copy\n"
   ]
  },
  {
   "cell_type": "code",
   "execution_count": 87,
   "id": "8f905e37-6247-4982-9335-7a68cb0754cc",
   "metadata": {},
   "outputs": [
    {
     "data": {
      "text/plain": [
       "['microsoft',\n",
       " 'meta',\n",
       " 'infosys',\n",
       " 'alphabet',\n",
       " 'accenture',\n",
       " 'X',\n",
       " 'X',\n",
       " 'Thoughtworks',\n",
       " 'TCS',\n",
       " 'IBM']"
      ]
     },
     "execution_count": 87,
     "metadata": {},
     "output_type": "execute_result"
    }
   ],
   "source": [
    "mncs"
   ]
  },
  {
   "cell_type": "code",
   "execution_count": 89,
   "id": "17aa6529-8504-4bb5-99f6-b50799ba51c8",
   "metadata": {},
   "outputs": [
    {
     "data": {
      "text/plain": [
       "['microsoft',\n",
       " 'meta',\n",
       " 'infosys',\n",
       " 'apple',\n",
       " 'alphabet',\n",
       " 'accenture',\n",
       " 'X',\n",
       " 'X',\n",
       " 'Thoughtworks',\n",
       " 'TCS']"
      ]
     },
     "execution_count": 89,
     "metadata": {},
     "output_type": "execute_result"
    }
   ],
   "source": [
    "mncs_copy"
   ]
  },
  {
   "cell_type": "code",
   "execution_count": 90,
   "id": "0d58642a-790e-4573-9a45-6eda83418c30",
   "metadata": {},
   "outputs": [],
   "source": [
    "mncs_copy1=mncs_copy.copy()"
   ]
  },
  {
   "cell_type": "code",
   "execution_count": 94,
   "id": "e329e0dc-17b7-4c2d-b424-010ad7111b54",
   "metadata": {},
   "outputs": [
    {
     "data": {
      "text/plain": [
       "['microsoft',\n",
       " 'meta',\n",
       " 'infosys',\n",
       " 'apple',\n",
       " 'alphabet',\n",
       " 'accenture',\n",
       " 'X',\n",
       " 'X',\n",
       " 'Thoughtworks',\n",
       " 'TCS']"
      ]
     },
     "execution_count": 94,
     "metadata": {},
     "output_type": "execute_result"
    }
   ],
   "source": [
    "mncs_copy"
   ]
  },
  {
   "cell_type": "code",
   "execution_count": 93,
   "id": "a7b3ab8d-8475-43bc-bac6-1fdaace2371e",
   "metadata": {},
   "outputs": [
    {
     "data": {
      "text/plain": [
       "['microsoft',\n",
       " 'meta',\n",
       " 'infosys',\n",
       " 'apple',\n",
       " 'alphabet',\n",
       " 'accenture',\n",
       " 'X',\n",
       " 'X',\n",
       " 'Thoughtworks',\n",
       " 'TCS']"
      ]
     },
     "execution_count": 93,
     "metadata": {},
     "output_type": "execute_result"
    }
   ],
   "source": [
    "mncs_copy1"
   ]
  },
  {
   "cell_type": "code",
   "execution_count": 95,
   "id": "277c9715-3f89-442e-9c6f-ceeae2b3c0d4",
   "metadata": {},
   "outputs": [],
   "source": [
    "mncs_copy1.remove('X')"
   ]
  },
  {
   "cell_type": "code",
   "execution_count": 96,
   "id": "93909e7b-6c1a-47e8-b7a1-644c9bf47e92",
   "metadata": {},
   "outputs": [
    {
     "data": {
      "text/plain": [
       "['microsoft',\n",
       " 'meta',\n",
       " 'infosys',\n",
       " 'apple',\n",
       " 'alphabet',\n",
       " 'accenture',\n",
       " 'X',\n",
       " 'Thoughtworks',\n",
       " 'TCS']"
      ]
     },
     "execution_count": 96,
     "metadata": {},
     "output_type": "execute_result"
    }
   ],
   "source": [
    "mncs_copy1"
   ]
  },
  {
   "cell_type": "code",
   "execution_count": 101,
   "id": "91050bf9-a88b-40b5-ab99-77130213e698",
   "metadata": {},
   "outputs": [
    {
     "data": {
      "text/plain": [
       "['microsoft',\n",
       " 'meta',\n",
       " 'infosys',\n",
       " 'apple',\n",
       " 'alphabet',\n",
       " 'accenture',\n",
       " 'X',\n",
       " 'X',\n",
       " 'Thoughtworks',\n",
       " 'TCS']"
      ]
     },
     "execution_count": 101,
     "metadata": {},
     "output_type": "execute_result"
    }
   ],
   "source": [
    "mncs_copy"
   ]
  },
  {
   "cell_type": "code",
   "execution_count": 102,
   "id": "b3ad6fee-5665-4344-9879-d1df428c23e2",
   "metadata": {},
   "outputs": [
    {
     "data": {
      "text/plain": [
       "10"
      ]
     },
     "execution_count": 102,
     "metadata": {},
     "output_type": "execute_result"
    }
   ],
   "source": [
    "len(mncs_copy)"
   ]
  },
  {
   "cell_type": "code",
   "execution_count": 104,
   "id": "0a091773-9f70-494a-990a-79e4791809e9",
   "metadata": {},
   "outputs": [
    {
     "data": {
      "text/plain": [
       "9"
      ]
     },
     "execution_count": 104,
     "metadata": {},
     "output_type": "execute_result"
    }
   ],
   "source": [
    "len(mncs_copy1)\n"
   ]
  },
  {
   "cell_type": "code",
   "execution_count": 105,
   "id": "3e4de378-0691-44e4-acbb-491a6ce83fc0",
   "metadata": {},
   "outputs": [],
   "source": [
    "mncs.append('Amazon')"
   ]
  },
  {
   "cell_type": "code",
   "execution_count": 107,
   "id": "c368ff29-4c5c-4ed3-b7ef-c40648f839c3",
   "metadata": {},
   "outputs": [],
   "source": [
    "mncs_copy1.append('Amazon')"
   ]
  },
  {
   "cell_type": "code",
   "execution_count": 109,
   "id": "5dd7eadb-d033-4aff-b0bb-2a59e13f7422",
   "metadata": {},
   "outputs": [
    {
     "data": {
      "text/plain": [
       "['microsoft',\n",
       " 'meta',\n",
       " 'infosys',\n",
       " 'apple',\n",
       " 'alphabet',\n",
       " 'accenture',\n",
       " 'X',\n",
       " 'Thoughtworks',\n",
       " 'TCS',\n",
       " 'Amazon']"
      ]
     },
     "execution_count": 109,
     "metadata": {},
     "output_type": "execute_result"
    }
   ],
   "source": [
    "mncs_copy1"
   ]
  },
  {
   "cell_type": "code",
   "execution_count": 112,
   "id": "90d84519-c96e-46f4-aaf2-76fd48bcfcf6",
   "metadata": {},
   "outputs": [
    {
     "data": {
      "text/plain": [
       "['microsoft',\n",
       " 'meta',\n",
       " 'infosys',\n",
       " 'apple',\n",
       " 'alphabet',\n",
       " 'accenture',\n",
       " 'X',\n",
       " 'X',\n",
       " 'Thoughtworks',\n",
       " 'TCS']"
      ]
     },
     "execution_count": 112,
     "metadata": {},
     "output_type": "execute_result"
    }
   ],
   "source": [
    "mncs_copy"
   ]
  },
  {
   "cell_type": "code",
   "execution_count": 113,
   "id": "f1ccc70f-99c4-4285-bc60-b4498993d8e7",
   "metadata": {},
   "outputs": [],
   "source": [
    "mncs_copy1[1]='BBB'"
   ]
  },
  {
   "cell_type": "code",
   "execution_count": 114,
   "id": "c22ef9d9-eaa2-46cc-8040-029b38068db5",
   "metadata": {},
   "outputs": [
    {
     "data": {
      "text/plain": [
       "['microsoft',\n",
       " 'BBB',\n",
       " 'infosys',\n",
       " 'apple',\n",
       " 'alphabet',\n",
       " 'accenture',\n",
       " 'X',\n",
       " 'Thoughtworks',\n",
       " 'TCS',\n",
       " 'Amazon']"
      ]
     },
     "execution_count": 114,
     "metadata": {},
     "output_type": "execute_result"
    }
   ],
   "source": [
    "mncs_copy1"
   ]
  },
  {
   "cell_type": "code",
   "execution_count": 115,
   "id": "67c351a0-5902-49de-8f05-c40b1fbe1690",
   "metadata": {},
   "outputs": [
    {
     "data": {
      "text/plain": [
       "['microsoft',\n",
       " 'meta',\n",
       " 'infosys',\n",
       " 'apple',\n",
       " 'alphabet',\n",
       " 'accenture',\n",
       " 'X',\n",
       " 'X',\n",
       " 'Thoughtworks',\n",
       " 'TCS']"
      ]
     },
     "execution_count": 115,
     "metadata": {},
     "output_type": "execute_result"
    }
   ],
   "source": [
    "mncs_copy"
   ]
  },
  {
   "cell_type": "code",
   "execution_count": 116,
   "id": "e4fdefdb-4196-42e7-9a15-67a869bab721",
   "metadata": {},
   "outputs": [],
   "source": [
    "a=mncs_copy1[1]"
   ]
  },
  {
   "cell_type": "code",
   "execution_count": 117,
   "id": "40d9e448-fc5b-495e-91fe-8ac4e40d0489",
   "metadata": {},
   "outputs": [
    {
     "data": {
      "text/plain": [
       "'BBB'"
      ]
     },
     "execution_count": 117,
     "metadata": {},
     "output_type": "execute_result"
    }
   ],
   "source": [
    "a"
   ]
  },
  {
   "cell_type": "code",
   "execution_count": 120,
   "id": "b271cb86-b401-472a-bdfc-27dbc197cebb",
   "metadata": {},
   "outputs": [],
   "source": [
    "del a"
   ]
  },
  {
   "cell_type": "code",
   "execution_count": 121,
   "id": "00c32859-a4a7-4328-a31a-390ad2dbd89d",
   "metadata": {},
   "outputs": [
    {
     "data": {
      "text/plain": [
       "['microsoft',\n",
       " 'BBB',\n",
       " 'infosys',\n",
       " 'apple',\n",
       " 'alphabet',\n",
       " 'accenture',\n",
       " 'X',\n",
       " 'Thoughtworks',\n",
       " 'TCS',\n",
       " 'Amazon']"
      ]
     },
     "execution_count": 121,
     "metadata": {},
     "output_type": "execute_result"
    }
   ],
   "source": [
    "mncs_copy1"
   ]
  },
  {
   "cell_type": "markdown",
   "id": "58cb694f-157a-42c1-9220-de5125e684a4",
   "metadata": {},
   "source": [
    "#### shallow copy only causes problems when using lists with nested lists or objects, or class instance"
   ]
  },
  {
   "cell_type": "code",
   "execution_count": 123,
   "id": "f27d4907-8771-439a-bac7-4030a5c4a658",
   "metadata": {},
   "outputs": [],
   "source": [
    "li1 = [1, 2, [3,5], 4]"
   ]
  },
  {
   "cell_type": "code",
   "execution_count": 124,
   "id": "55d0abb1-5c56-4608-a4b2-7abdaf7a9b97",
   "metadata": {},
   "outputs": [],
   "source": [
    "li2=li1.copy()"
   ]
  },
  {
   "cell_type": "code",
   "execution_count": 125,
   "id": "8db7a675-9dbf-4653-9b29-c752404e4e2d",
   "metadata": {},
   "outputs": [
    {
     "data": {
      "text/plain": [
       "[1, 2, [3, 5], 4]"
      ]
     },
     "execution_count": 125,
     "metadata": {},
     "output_type": "execute_result"
    }
   ],
   "source": [
    "li2"
   ]
  },
  {
   "cell_type": "code",
   "execution_count": 126,
   "id": "4395fad4-bdfd-4f9e-bf35-2655a636aab3",
   "metadata": {},
   "outputs": [
    {
     "data": {
      "text/plain": [
       "[1, 2, [9, 5], 4]"
      ]
     },
     "execution_count": 126,
     "metadata": {},
     "output_type": "execute_result"
    }
   ],
   "source": [
    "li2[2][0]=9\n",
    "li2"
   ]
  },
  {
   "cell_type": "code",
   "execution_count": 127,
   "id": "d493b41e-3c56-4e48-b9aa-4a7c78a90917",
   "metadata": {},
   "outputs": [
    {
     "data": {
      "text/plain": [
       "[1, 2, [9, 5], 4]"
      ]
     },
     "execution_count": 127,
     "metadata": {},
     "output_type": "execute_result"
    }
   ],
   "source": [
    "li1\n"
   ]
  },
  {
   "cell_type": "code",
   "execution_count": 128,
   "id": "21a2f102-ab22-4233-a307-e0cbe253ffd4",
   "metadata": {},
   "outputs": [],
   "source": [
    "mncs.clear()"
   ]
  },
  {
   "cell_type": "code",
   "execution_count": 129,
   "id": "b9fc424b-ccdb-4e8d-a7d0-323fd103bf66",
   "metadata": {},
   "outputs": [
    {
     "data": {
      "text/plain": [
       "[]"
      ]
     },
     "execution_count": 129,
     "metadata": {},
     "output_type": "execute_result"
    }
   ],
   "source": [
    "mncs"
   ]
  },
  {
   "cell_type": "code",
   "execution_count": 130,
   "id": "a5e2ba20-c00b-41b0-b973-95de3af61002",
   "metadata": {},
   "outputs": [],
   "source": [
    "del mncs"
   ]
  },
  {
   "cell_type": "code",
   "execution_count": 131,
   "id": "96f66d22-d52d-4823-bac8-9704af49b63f",
   "metadata": {},
   "outputs": [
    {
     "ename": "NameError",
     "evalue": "name 'mncs' is not defined",
     "output_type": "error",
     "traceback": [
      "\u001b[1;31m---------------------------------------------------------------------------\u001b[0m",
      "\u001b[1;31mNameError\u001b[0m                                 Traceback (most recent call last)",
      "Cell \u001b[1;32mIn[131], line 1\u001b[0m\n\u001b[1;32m----> 1\u001b[0m \u001b[43mmncs\u001b[49m\n",
      "\u001b[1;31mNameError\u001b[0m: name 'mncs' is not defined"
     ]
    }
   ],
   "source": [
    "mncs"
   ]
  },
  {
   "cell_type": "markdown",
   "id": "2e9832fa-7617-414c-99a5-c95fd0533896",
   "metadata": {},
   "source": [
    "### List as Stack"
   ]
  },
  {
   "cell_type": "code",
   "execution_count": 3,
   "id": "5f119dc9-578d-4784-82b8-2e3ac694e2e7",
   "metadata": {},
   "outputs": [
    {
     "data": {
      "text/plain": [
       "['Physics', 'Maths', 'CS']"
      ]
     },
     "execution_count": 3,
     "metadata": {},
     "output_type": "execute_result"
    }
   ],
   "source": [
    "stack=['Physics','Maths','CS']\n",
    "stack"
   ]
  },
  {
   "cell_type": "code",
   "execution_count": 4,
   "id": "96450c85-0d7d-43ec-8379-bb03338a9736",
   "metadata": {},
   "outputs": [],
   "source": [
    "stack.append('EVS')"
   ]
  },
  {
   "cell_type": "code",
   "execution_count": 5,
   "id": "4dd95b42-4391-432b-87c0-be4bbeadfa46",
   "metadata": {},
   "outputs": [
    {
     "data": {
      "text/plain": [
       "['Physics', 'Maths', 'CS', 'EVS']"
      ]
     },
     "execution_count": 5,
     "metadata": {},
     "output_type": "execute_result"
    }
   ],
   "source": [
    "stack"
   ]
  },
  {
   "cell_type": "code",
   "execution_count": 6,
   "id": "e8cca16a-11a8-4bbd-a5e8-5fc357a6d959",
   "metadata": {},
   "outputs": [
    {
     "data": {
      "text/plain": [
       "'EVS'"
      ]
     },
     "execution_count": 6,
     "metadata": {},
     "output_type": "execute_result"
    }
   ],
   "source": [
    "stack.pop()"
   ]
  },
  {
   "cell_type": "code",
   "execution_count": 7,
   "id": "5d4c93d9-10e9-44a4-9cfd-019a504a2cae",
   "metadata": {},
   "outputs": [
    {
     "data": {
      "text/plain": [
       "['Physics', 'Maths', 'CS']"
      ]
     },
     "execution_count": 7,
     "metadata": {},
     "output_type": "execute_result"
    }
   ],
   "source": [
    "stack"
   ]
  },
  {
   "cell_type": "markdown",
   "id": "8971687a-ff90-4efe-82e3-1b628a7bd4c5",
   "metadata": {},
   "source": [
    "### List as Queue using collections.deque"
   ]
  },
  {
   "cell_type": "code",
   "execution_count": 8,
   "id": "9784eda6-296f-47c5-bf98-10e738932950",
   "metadata": {},
   "outputs": [],
   "source": [
    "from collections import deque"
   ]
  },
  {
   "cell_type": "code",
   "execution_count": 9,
   "id": "29742b31-ce1b-4b00-976c-9c9da7dabadb",
   "metadata": {},
   "outputs": [],
   "source": [
    "queue=deque(['Elon','Mark','Tim'])\n"
   ]
  },
  {
   "cell_type": "code",
   "execution_count": 10,
   "id": "0ebeefd0-adae-4804-99e1-93dabbc5c248",
   "metadata": {},
   "outputs": [
    {
     "data": {
      "text/plain": [
       "deque(['Elon', 'Mark', 'Tim'])"
      ]
     },
     "execution_count": 10,
     "metadata": {},
     "output_type": "execute_result"
    }
   ],
   "source": [
    "queue"
   ]
  },
  {
   "cell_type": "code",
   "execution_count": 12,
   "id": "54598689-2710-4414-a136-b27a08f993fe",
   "metadata": {},
   "outputs": [],
   "source": [
    "queue.append(\"Namjoon\")"
   ]
  },
  {
   "cell_type": "code",
   "execution_count": 13,
   "id": "44b66b81-0261-4211-83d4-5009a1bfb5ae",
   "metadata": {},
   "outputs": [
    {
     "data": {
      "text/plain": [
       "deque(['Elon', 'Mark', 'Tim', 'Terry', 'Namjoon'])"
      ]
     },
     "execution_count": 13,
     "metadata": {},
     "output_type": "execute_result"
    }
   ],
   "source": [
    "queue"
   ]
  },
  {
   "cell_type": "code",
   "execution_count": 14,
   "id": "6e570abd-32a3-435e-a88a-4011cd5e409e",
   "metadata": {},
   "outputs": [
    {
     "data": {
      "text/plain": [
       "'Elon'"
      ]
     },
     "execution_count": 14,
     "metadata": {},
     "output_type": "execute_result"
    }
   ],
   "source": [
    "queue.popleft()"
   ]
  },
  {
   "cell_type": "code",
   "execution_count": 15,
   "id": "ae119003-765e-4e4a-aec6-68a57dfcf238",
   "metadata": {},
   "outputs": [
    {
     "data": {
      "text/plain": [
       "deque(['Mark', 'Tim', 'Terry', 'Namjoon'])"
      ]
     },
     "execution_count": 15,
     "metadata": {},
     "output_type": "execute_result"
    }
   ],
   "source": [
    "queue"
   ]
  },
  {
   "cell_type": "markdown",
   "id": "4794ba03-3419-416e-b783-80cd266ba6c0",
   "metadata": {},
   "source": [
    "### List COMPREHENSIONS\n",
    "\n"
   ]
  },
  {
   "cell_type": "code",
   "execution_count": 17,
   "id": "60d33b43-e4f4-4c93-8a5f-2c3257bb7e10",
   "metadata": {},
   "outputs": [
    {
     "data": {
      "text/plain": [
       "[0, 1, 4, 9, 16, 25, 36, 49, 64, 81]"
      ]
     },
     "execution_count": 17,
     "metadata": {},
     "output_type": "execute_result"
    }
   ],
   "source": [
    "squares=[]\n",
    "for x in range(10):\n",
    "    squares.append(x**2)\n",
    "\n",
    "squares"
   ]
  },
  {
   "cell_type": "code",
   "execution_count": 19,
   "id": "8c51afba-a5d0-407b-9ed3-c3b0923f26e1",
   "metadata": {},
   "outputs": [],
   "source": [
    "squares=list(map(lambda x:x**2,range(10)))"
   ]
  },
  {
   "cell_type": "code",
   "execution_count": 20,
   "id": "f64c7981-324e-4839-a096-79d6bb3b1da6",
   "metadata": {},
   "outputs": [
    {
     "data": {
      "text/plain": [
       "[0, 1, 4, 9, 16, 25, 36, 49, 64, 81]"
      ]
     },
     "execution_count": 20,
     "metadata": {},
     "output_type": "execute_result"
    }
   ],
   "source": [
    "squares"
   ]
  },
  {
   "cell_type": "code",
   "execution_count": 21,
   "id": "002f72bd-53f3-446a-9fa0-9f0ebd4efc73",
   "metadata": {},
   "outputs": [],
   "source": [
    "squares=[x**2 for x in range(10)]"
   ]
  },
  {
   "cell_type": "code",
   "execution_count": 22,
   "id": "30b66e1f-8203-4035-8333-ce768884bea1",
   "metadata": {},
   "outputs": [
    {
     "data": {
      "text/plain": [
       "[0, 1, 4, 9, 16, 25, 36, 49, 64, 81]"
      ]
     },
     "execution_count": 22,
     "metadata": {},
     "output_type": "execute_result"
    }
   ],
   "source": [
    "squares"
   ]
  },
  {
   "cell_type": "code",
   "execution_count": 26,
   "id": "6bc5a223-1bf4-4418-860c-460cad88e98b",
   "metadata": {},
   "outputs": [
    {
     "data": {
      "text/plain": [
       "[(1, 3), (1, 4), (2, 3), (2, 1), (2, 4), (3, 1), (3, 4)]"
      ]
     },
     "execution_count": 26,
     "metadata": {},
     "output_type": "execute_result"
    }
   ],
   "source": [
    "combs=[]\n",
    "for x in [1,2,3]:\n",
    "    for y in[3,1,4]:\n",
    "        if x!=y:\n",
    "            combs.append((x,y))\n",
    "combs"
   ]
  },
  {
   "cell_type": "markdown",
   "id": "6ba7a80d-110d-4a6e-b2c1-9741c0fd3b3f",
   "metadata": {},
   "source": [
    "### rewriting above using list comprehension"
   ]
  },
  {
   "cell_type": "code",
   "execution_count": 23,
   "id": "558204dd-ec13-40b1-ab80-b9fd43293cf7",
   "metadata": {},
   "outputs": [
    {
     "data": {
      "text/plain": [
       "[(1, 3),\n",
       " (1, 4),\n",
       " (1, 6),\n",
       " (2, 3),\n",
       " (2, 1),\n",
       " (2, 4),\n",
       " (2, 6),\n",
       " (3, 1),\n",
       " (3, 4),\n",
       " (3, 6)]"
      ]
     },
     "execution_count": 23,
     "metadata": {},
     "output_type": "execute_result"
    }
   ],
   "source": [
    "[(x,y) for x in [1,2,3] for y in [3,1,4,6] if x!=y]"
   ]
  },
  {
   "cell_type": "code",
   "execution_count": null,
   "id": "84b693ac-e7f2-4011-ac97-74be88ed4d6a",
   "metadata": {},
   "outputs": [],
   "source": []
  }
 ],
 "metadata": {
  "kernelspec": {
   "display_name": "Python 3 (ipykernel)",
   "language": "python",
   "name": "python3"
  },
  "language_info": {
   "codemirror_mode": {
    "name": "ipython",
    "version": 3
   },
   "file_extension": ".py",
   "mimetype": "text/x-python",
   "name": "python",
   "nbconvert_exporter": "python",
   "pygments_lexer": "ipython3",
   "version": "3.12.3"
  }
 },
 "nbformat": 4,
 "nbformat_minor": 5
}
