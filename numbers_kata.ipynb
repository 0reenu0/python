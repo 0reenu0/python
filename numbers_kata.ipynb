{
 "cells": [
  {
   "cell_type": "markdown",
   "id": "111dca0d-4f1d-4dc9-9ebf-de8a54a3f53f",
   "metadata": {},
   "source": [
    "### You are given the coefficients of a quadratic equation in order A, B & C.\n",
    "\n",
    "Where A is the coefficient of X2,  B is the coefficient of X and C is the constant term in the most simplified form.\n",
    "\n",
    "Example: For  X2 + 5X + 6 = 0, you are given the input as: 1 5 6.\n",
    "\n",
    "### Write a program to find all of the roots of the quadratic.\n",
    "\n",
    "Note: The output should be up to 2nd decimal place (round off if needed) and in case of a recurring decimal use braces i.e. for eg: 0.33333..... => 0.33.\n",
    "\n",
    "Note: Use Shri Dharacharya's Method to solve i.e. X = {-b + √(b² - 4ac) } / 2a & {-b-√(b² -4ac)} / 2a\n",
    "\n",
    "Input Description:\n",
    "Three numbers corresponding to the coefficients of x(squared), x and constant are given as an input in that particular order\n",
    "\n",
    "Output Description:\n",
    "Print the two values of X after rounding off to 2 decimal places if required."
   ]
  },
  {
   "cell_type": "code",
   "execution_count": 19,
   "id": "2a773236-88d1-4ee1-9cdc-20bf5354b206",
   "metadata": {},
   "outputs": [
    {
     "name": "stdin",
     "output_type": "stream",
     "text": [
      " 3 2 -1\n"
     ]
    },
    {
     "name": "stdout",
     "output_type": "stream",
     "text": [
      "0.33\n",
      "-1.00\n"
     ]
    }
   ],
   "source": [
    "import math;\n",
    "a,b,c=map(int,input().split())\n",
    "x1=(-b+math.sqrt((b**2)-(4*a*c)))/(2*a)\n",
    "x2=(-b-math.sqrt((b**2)-(4*a*c)))/(2*a)\n",
    "\n",
    "print(format(x1,'.2f'))\n",
    "print(format(x2,'.2f'))\n"
   ]
  },
  {
   "cell_type": "markdown",
   "id": "2a2427d8-b337-467e-b797-add822d8ba60",
   "metadata": {},
   "source": [
    "### Write a code to get an integer N and print the digits of the integer.\n",
    "\n",
    "Input Description:\n",
    "A single line contains an integer N.\n",
    "\n",
    "Output Description:\n",
    "Print the digits of the integer in a single line separated by space,\n",
    "\n",
    "Sample Input :\n",
    "348\n",
    "Sample Output :\n",
    "3 4 8"
   ]
  },
  {
   "cell_type": "code",
   "execution_count": 21,
   "id": "5fe62fd6-c313-484c-9ec9-aa82f534eb3c",
   "metadata": {},
   "outputs": [
    {
     "name": "stdin",
     "output_type": "stream",
     "text": [
      " 256\n"
     ]
    },
    {
     "name": "stdout",
     "output_type": "stream",
     "text": [
      "2 5 6\n"
     ]
    }
   ],
   "source": [
    "n=int(input())\n",
    "print(\" \".join(str(n)))\n",
    "    "
   ]
  },
  {
   "cell_type": "markdown",
   "id": "ae4ada83-6227-4c3b-a38f-05f6b9bd8b0c",
   "metadata": {},
   "source": [
    "### Let \"A\"  be a string. Remove all the whitespaces and find it's length.\n",
    "\n",
    "Input Description:\n",
    "A string is provide as an input\n",
    "\n",
    "Output Description:\n",
    "Remove all the whitespaces and then print the length of the remaining string.\n",
    "\n",
    "Sample Input :\n",
    "Lorem Ipsum\n",
    "Sample Output :\n",
    "10"
   ]
  },
  {
   "cell_type": "code",
   "execution_count": 26,
   "id": "3e17121e-537d-4930-9cf2-b200ced267db",
   "metadata": {},
   "outputs": [
    {
     "name": "stdin",
     "output_type": "stream",
     "text": [
      "  m m m \n"
     ]
    },
    {
     "name": "stdout",
     "output_type": "stream",
     "text": [
      "3\n"
     ]
    }
   ],
   "source": [
    "str=input()\n",
    "str=str.replace(\" \",\"\")\n",
    "print(len(str))"
   ]
  },
  {
   "cell_type": "markdown",
   "id": "18c93712-9a67-486a-8d31-27d24014f649",
   "metadata": {},
   "source": [
    "### Write a code to get the input and print it 5 times.\n",
    "\n",
    "Input Description:\n",
    "A single line contains an integer N.\n",
    "\n",
    "Output Description:\n",
    "Output contains 5 lines with each line having the value N.\n",
    "\n",
    "Sample Input :\n",
    "4\n",
    "Sample Output :\n",
    "4\n",
    "4\n",
    "4\n",
    "4\n",
    "4"
   ]
  },
  {
   "cell_type": "code",
   "execution_count": 27,
   "id": "a57efac5-9b45-42ca-b37b-682fa12f27cc",
   "metadata": {},
   "outputs": [
    {
     "name": "stdin",
     "output_type": "stream",
     "text": [
      " 5\n"
     ]
    },
    {
     "name": "stdout",
     "output_type": "stream",
     "text": [
      "5\n",
      "5\n",
      "5\n",
      "5\n",
      "5\n"
     ]
    }
   ],
   "source": [
    "n=int(input())\n",
    "for i in range(1,6):\n",
    "    print(n)"
   ]
  },
  {
   "cell_type": "markdown",
   "id": "e2e9e94e-4fb4-4af3-894f-030272578172",
   "metadata": {},
   "source": [
    "### Write a code get an integer number as input and print the odd and even digits of the number separately.\n",
    "\n",
    "Input Description:\n",
    "A single line containing an integer.\n",
    "\n",
    "Output Description:\n",
    "Print the even and odd integers of the integer in a separate line.\n",
    "\n",
    "Sample Input :\n",
    "1234\n",
    "Sample Output :\n",
    "2 4\n",
    "1 3"
   ]
  },
  {
   "cell_type": "code",
   "execution_count": 45,
   "id": "627996e6-d707-4a02-97f2-6ec0a56c42c3",
   "metadata": {},
   "outputs": [
    {
     "name": "stdin",
     "output_type": "stream",
     "text": [
      " 233342\n"
     ]
    },
    {
     "name": "stdout",
     "output_type": "stream",
     "text": [
      "2 2 4\n",
      "3 3 3\n"
     ]
    }
   ],
   "source": [
    " nstr=input()\n",
    "list1=list(' '.join(nstr).split(' '))\n",
    "le=[]\n",
    "lo=[]\n",
    "for i in list1:\n",
    "    if(int(i)%2==0):\n",
    "       le.append(int(i))\n",
    "    else:\n",
    "        lo.append(int(i))\n",
    "print(*sorted(le))\n",
    "print(*sorted(lo))\n"
   ]
  },
  {
   "cell_type": "markdown",
   "id": "63b63435-2799-4c45-a46e-bdffb358fe71",
   "metadata": {},
   "source": [
    "### You are given with a number \"N\", find its cube.\n",
    "\n",
    "Input Description:\n",
    "A positive integer is provided.\n",
    "\n",
    "Output Description:\n",
    "Find the cube of the number.\n",
    "\n",
    "Sample Input :\n",
    "2\n",
    "Sample Output :\n",
    "8"
   ]
  },
  {
   "cell_type": "code",
   "execution_count": 46,
   "id": "b5727146-8e95-45e8-b939-ad8fa63e59ff",
   "metadata": {},
   "outputs": [
    {
     "name": "stdin",
     "output_type": "stream",
     "text": [
      " 2\n"
     ]
    },
    {
     "name": "stdout",
     "output_type": "stream",
     "text": [
      "8\n"
     ]
    }
   ],
   "source": [
    "n=int(input())\n",
    "print(n*n*n)"
   ]
  },
  {
   "cell_type": "markdown",
   "id": "053b38fe-4ad7-483a-8cad-72e4e7ec63fe",
   "metadata": {},
   "source": [
    "### Write a program to get a string as input and reverse the string without using temporary variable.\n",
    "\n",
    "Input Description:\n",
    "A single line containing a string.\n",
    "\n",
    "Output Description:\n",
    "Print the reversed string.\n",
    "\n",
    "Sample Input :\n",
    "GUVI\n",
    "Sample Output :\n",
    "IVUG"
   ]
  },
  {
   "cell_type": "code",
   "execution_count": 57,
   "id": "4ea5fc52-f13d-4405-89da-a45f988bd807",
   "metadata": {},
   "outputs": [
    {
     "name": "stdin",
     "output_type": "stream",
     "text": [
      " GUVI\n"
     ]
    },
    {
     "name": "stdout",
     "output_type": "stream",
     "text": [
      "IVUG\n"
     ]
    }
   ],
   "source": [
    "ls=list(' '.join(input()).split(' '))\n",
    "size=len(ls)\n",
    "i=size-1\n",
    "s=''\n",
    "while i>=0:\n",
    "    s=s+ls[i]\n",
    "    i=i-1\n",
    "print(s)"
   ]
  },
  {
   "cell_type": "markdown",
   "id": "a6750a71-3d9e-4239-83e8-2a4c23959fcb",
   "metadata": {},
   "source": [
    "### Write a code get an integer number as input and print the sum of the digits.\r\n",
    "\r\n",
    "Input Description:\r\n",
    "A single line containing an integer.\r\n",
    "\r\n",
    "Output Description:\r\n",
    "Print the sum of the digits of the integer.\r\n",
    "\r\n",
    "Sample Input :\r\n",
    "124\r\n",
    "Sample Output :\r\n",
    "7"
   ]
  },
  {
   "cell_type": "code",
   "execution_count": 58,
   "id": "67cb248b-ce39-481b-8609-518df6323804",
   "metadata": {},
   "outputs": [
    {
     "name": "stdin",
     "output_type": "stream",
     "text": [
      " 1245\n"
     ]
    },
    {
     "name": "stdout",
     "output_type": "stream",
     "text": [
      "12\n"
     ]
    }
   ],
   "source": [
    "s=input()\n",
    "sum=0\n",
    "for i in s:\n",
    "    sum=sum+int(i)\n",
    "print(sum)"
   ]
  },
  {
   "cell_type": "markdown",
   "id": "7306ce94-2ef6-4960-8a7b-082041d551b0",
   "metadata": {},
   "source": [
    "### Write a code to get a integer n as input and calculate the smallest perfect power of 2 greater than n.\r\n",
    "\r\n",
    "Input Description:\r\n",
    "A single line containing an integer,n.\r\n",
    "\r\n",
    "Output Description:\r\n",
    "Print the smallest perfect power of 2 greater than n.\r\n",
    "\r\n",
    "Sample Input :\r\n",
    "48\r\n",
    "Sample Output :\r\n",
    "64"
   ]
  },
  {
   "cell_type": "code",
   "execution_count": 60,
   "id": "ae163706-12d6-449a-af5d-c662462a8523",
   "metadata": {},
   "outputs": [
    {
     "name": "stdin",
     "output_type": "stream",
     "text": [
      " 48\n"
     ]
    },
    {
     "name": "stdout",
     "output_type": "stream",
     "text": [
      "64\n"
     ]
    }
   ],
   "source": [
    "n=int(input())\n",
    "\n",
    "p=2\n",
    "while True:\n",
    "    p=p*2\n",
    "    if(p>n):\n",
    "        break\n",
    "print(p)\n"
   ]
  },
  {
   "cell_type": "markdown",
   "id": "ba8abfc5-adbd-46c5-8d01-010f7fa64ccb",
   "metadata": {},
   "source": [
    "### Write a code to get 2 integers as input and add the integers without any carry.\r\n",
    "\r\n",
    "Input Description:\r\n",
    "A single line containing 2 integers.\r\n",
    "\r\n",
    "Output Description:\r\n",
    "Print sum of the 2 integers without carry\r\n",
    "\r\n",
    "Sample Input :\r\n",
    "44 66\r\n",
    "Sample Output :\r\n",
    "0"
   ]
  },
  {
   "cell_type": "code",
   "execution_count": 70,
   "id": "61e06c7c-a343-4c50-a3f5-78da75856119",
   "metadata": {},
   "outputs": [
    {
     "name": "stdin",
     "output_type": "stream",
     "text": [
      " 1259 8851\n"
     ]
    },
    {
     "name": "stdout",
     "output_type": "stream",
     "text": [
      "9000\n"
     ]
    }
   ],
   "source": [
    "a,b=map(int,input().split())\n",
    "res=0\n",
    "i=1\n",
    "while a>0 and b>0:\n",
    "    res+=((a%10+b%10)%10)*i;\n",
    "    a//=10\n",
    "    b//=10\n",
    "    i*=10\n",
    "print(res)"
   ]
  },
  {
   "cell_type": "markdown",
   "id": "b89935f1-3c25-4048-bbc2-210b1cc41c2b",
   "metadata": {},
   "source": [
    "### Write a program to get a list of integers as input and find the LCM of the values without using GCD\n",
    "\n",
    "Input Description:\n",
    "First line contains an integer N, number of values. Second line contains N space separated values.\n",
    "\n",
    "Output Description:\n",
    "Print the LCM of the values.\n",
    "\n",
    "Sample Input :\n",
    "1 2 3 4 5\n",
    "Sample Output :\n",
    "60"
   ]
  },
  {
   "cell_type": "code",
   "execution_count": 95,
   "id": "79d2c24a-bfa6-466d-a2b0-258ee21f1160",
   "metadata": {},
   "outputs": [
    {
     "name": "stdin",
     "output_type": "stream",
     "text": [
      " 2\n",
      " 5 7\n"
     ]
    },
    {
     "name": "stdout",
     "output_type": "stream",
     "text": [
      "35\n"
     ]
    }
   ],
   "source": [
    "# this approach works if there are 2 numbers to find lcm without using gcd\n",
    "n=int(input())\n",
    "\n",
    "list1=list(map(int,input().split()))\n",
    "\n",
    "sl=sorted(list1)\n",
    "max1=sl[1]\n",
    "min1=sl[0]\n",
    "i=0\n",
    "lcm=None\n",
    "while True:\n",
    "    i=i+max1\n",
    "    if(i%min1==0):\n",
    "        lcm=i\n",
    "        break\n",
    "print(lcm)\n",
    "\n"
   ]
  },
  {
   "cell_type": "code",
   "execution_count": null,
   "id": "06b0808e-be3b-4092-86c9-76d30d4160f9",
   "metadata": {},
   "outputs": [],
   "source": [
    "#this approach to find lcm of n numbers\n",
    "# find x,- common factor that divides 2 or more numbers\n",
    "# reduce all divisible elements by x\n",
    "#lcm=multiply x with all reduced elements\n",
    "\n",
    "n=int(input())\n",
    "\n",
    "list1=list(map(int,input().split()))\n",
    "\n",
    "sl=sorted(list1)\n",
    "max1=sl[1]\n",
    "min1=sl[0]\n",
    "x=2\n",
    "il=[]\n",
    "res=1\n",
    "while x<=max1:\n",
    "    for j in range(0,len(sl)):\n",
    "        if(sl[j]%x==0):\n",
    "            il.append(j)\n",
    "    if(len(il)>=2):\n",
    "        for index in il:\n",
    "            sl[index]=sl[index]/x\n",
    "        res=res*x\n",
    "    x=x+1\n",
    "for num in sl:\n",
    "    res=res*num\n",
    "print(res)"
   ]
  },
  {
   "cell_type": "code",
   "execution_count": null,
   "id": "b4dc9a20-917f-4b94-ba4f-0182b83dba0f",
   "metadata": {},
   "outputs": [],
   "source": []
  },
  {
   "cell_type": "code",
   "execution_count": null,
   "id": "198a2419-cb67-41f8-8474-02e89b270afd",
   "metadata": {},
   "outputs": [],
   "source": []
  }
 ],
 "metadata": {
  "kernelspec": {
   "display_name": "Python 3 (ipykernel)",
   "language": "python",
   "name": "python3"
  },
  "language_info": {
   "codemirror_mode": {
    "name": "ipython",
    "version": 3
   },
   "file_extension": ".py",
   "mimetype": "text/x-python",
   "name": "python",
   "nbconvert_exporter": "python",
   "pygments_lexer": "ipython3",
   "version": "3.12.1"
  }
 },
 "nbformat": 4,
 "nbformat_minor": 5
}
